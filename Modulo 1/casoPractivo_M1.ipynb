{
 "cells": [
  {
   "cell_type": "code",
   "execution_count": 1,
   "id": "11f1123e",
   "metadata": {},
   "outputs": [],
   "source": [
    "# Importamos la librería Pandas y la renombramos como pd\n",
    "import pandas as pd"
   ]
  },
  {
   "cell_type": "code",
   "execution_count": 2,
   "id": "880c448d",
   "metadata": {},
   "outputs": [
    {
     "name": "stdout",
     "output_type": "stream",
     "text": [
      "Index(['RUT', 'Nombre', 'Genero', 'Fecha_Nacimiento', 'Previsión',\n",
      "       'Monto_Deuda'],\n",
      "      dtype='object')\n"
     ]
    }
   ],
   "source": [
    "# Generamos el Data Frame a través del archivo CSV\n",
    "df_pacientes = pd.read_csv(\"datos_pacientes.csv\", encoding=\"utf-8\", sep=\";\")\n",
    "# Mostramos las columnas\n",
    "print(df_pacientes.columns)"
   ]
  },
  {
   "cell_type": "code",
   "execution_count": 3,
   "id": "fb30c1f0",
   "metadata": {},
   "outputs": [
    {
     "name": "stdout",
     "output_type": "stream",
     "text": [
      "              RUT                                 Nombre     Genero  \\\n",
      "0    16.302.272-9             Andrea Javiera Robles Díaz   FEMENINO   \n",
      "1      5.03.060-9            Daniela Victoria Ruiz López   FEMENINO   \n",
      "2    12.074.719-9          Francisco Felipe Castro Rojas  MASCULINO   \n",
      "3    19.121.201-0          Cecilia Valeria Díaz González   FEMENINO   \n",
      "4    20.348.342-8        Pablo Vicente Valenzuela Campos  MASCULINO   \n",
      "..            ...                                    ...        ...   \n",
      "995  13.780.496-8  Ramón Francisco Valenzuela Valenzuela  MASCULINO   \n",
      "996   6.509.713-1              Isidora María Castro Díaz   FEMENINO   \n",
      "997  10.782.816-5         Pablo Bernardo Marín Rodríguez  MASCULINO   \n",
      "998   8.047.856-4           Isidora Ignacia Díaz Vergara   FEMENINO   \n",
      "999  20.312.199-4    Francisco Gabriel González González  MASCULINO   \n",
      "\n",
      "    Fecha_Nacimiento Previsión  Monto_Deuda  \n",
      "0          1971/7/11    FONASA      1871093  \n",
      "1          1970/7/23    FONASA       793322  \n",
      "2          1966/2/22    FONASA       320538  \n",
      "3          1998/4/15    FONASA       469335  \n",
      "4          1978/1/15    ISAPRE       759052  \n",
      "..               ...       ...          ...  \n",
      "995       1996/10/12    ISAPRE      1228834  \n",
      "996        1993/3/16    ISAPRE       805084  \n",
      "997        1962/3/19    FONASA      1273143  \n",
      "998       1992/11/13    ISAPRE       141725  \n",
      "999        1981/7/13    ISAPRE      1251681  \n",
      "\n",
      "[1000 rows x 6 columns]\n"
     ]
    }
   ],
   "source": [
    "# Mostramos la información de las columnas\n",
    "print(df_pacientes)"
   ]
  },
  {
   "cell_type": "code",
   "execution_count": 4,
   "id": "06bfc3eb",
   "metadata": {},
   "outputs": [
    {
     "name": "stdout",
     "output_type": "stream",
     "text": [
      "0      1871093\n",
      "1       793322\n",
      "2       320538\n",
      "3       469335\n",
      "4       759052\n",
      "        ...   \n",
      "995    1228834\n",
      "996     805084\n",
      "997    1273143\n",
      "998     141725\n",
      "999    1251681\n",
      "Name: Monto_Deuda, Length: 1000, dtype: int64\n"
     ]
    }
   ],
   "source": [
    "# Mostramos información de la columna \"Monto_Deuda\"\n",
    "print(df_pacientes[\"Monto_Deuda\"])"
   ]
  },
  {
   "cell_type": "code",
   "execution_count": 5,
   "id": "e6797806",
   "metadata": {},
   "outputs": [
    {
     "name": "stdout",
     "output_type": "stream",
     "text": [
      "RUT                                  4.464.429-4\n",
      "Nombre              Javiera Daniela Vergara Díaz\n",
      "Genero                                  FEMENINO\n",
      "Fecha_Nacimiento                       1976/6/25\n",
      "Previsión                                 ISAPRE\n",
      "Monto_Deuda                               191000\n",
      "Name: 651, dtype: object\n"
     ]
    }
   ],
   "source": [
    "# Mostramos fila N°651\n",
    "print(df_pacientes.loc[651])"
   ]
  },
  {
   "cell_type": "code",
   "execution_count": 6,
   "id": "5d8c111c",
   "metadata": {},
   "outputs": [
    {
     "name": "stdout",
     "output_type": "stream",
     "text": [
      "              RUT                             Nombre     Genero  \\\n",
      "100   14.014.09-9          Gabriel Felipe Díaz Marín  MASCULINO   \n",
      "101  18.444.222-7    Francisco Bernardo Muñoz Castro  MASCULINO   \n",
      "102  13.716.907-0     Juan Vicente Rodríguez Quiroga  MASCULINO   \n",
      "103  17.734.624-0       Francisco Javier Marín Muñoz  MASCULINO   \n",
      "104  19.186.540-6   Rodrigo Rodrigo Rodríguez Campos  MASCULINO   \n",
      "..            ...                                ...        ...   \n",
      "196  16.380.161-1        Juan Rodrigo González Muñoz  MASCULINO   \n",
      "197   9.953.059-5      Ignacia Ignacia Rojas Quiroga   FEMENINO   \n",
      "198  14.647.763-3        María Paula Díaz Valenzuela   FEMENINO   \n",
      "199  17.487.655-5  Rodrigo Javier Quiroga Valenzuela  MASCULINO   \n",
      "200  10.325.279-4      Pamela Constanza Castro Muñoz   FEMENINO   \n",
      "\n",
      "    Fecha_Nacimiento Previsión  Monto_Deuda  \n",
      "100       1976/12/10    FONASA       568839  \n",
      "101         1988/7/8    ISAPRE       978748  \n",
      "102         1972/1/5    FONASA       943929  \n",
      "103        1979/8/29    FONASA       749244  \n",
      "104        1992/8/10    FONASA      1710802  \n",
      "..               ...       ...          ...  \n",
      "196        1965/2/19    FONASA      1601812  \n",
      "197        1970/9/16    FONASA      1095891  \n",
      "198       1977/11/29    FONASA      1812370  \n",
      "199        1975/5/16    FONASA       996228  \n",
      "200         1969/9/0    ISAPRE      1146271  \n",
      "\n",
      "[101 rows x 6 columns]\n",
      "100     14.014.09-9\n",
      "101    18.444.222-7\n",
      "102    13.716.907-0\n",
      "103    17.734.624-0\n",
      "104    19.186.540-6\n",
      "           ...     \n",
      "196    16.380.161-1\n",
      "197     9.953.059-5\n",
      "198    14.647.763-3\n",
      "199    17.487.655-5\n",
      "200    10.325.279-4\n",
      "Name: RUT, Length: 101, dtype: object\n",
      "100            Gabriel Felipe Díaz Marín\n",
      "101      Francisco Bernardo Muñoz Castro\n",
      "102       Juan Vicente Rodríguez Quiroga\n",
      "103         Francisco Javier Marín Muñoz\n",
      "104     Rodrigo Rodrigo Rodríguez Campos\n",
      "                     ...                \n",
      "196          Juan Rodrigo González Muñoz\n",
      "197        Ignacia Ignacia Rojas Quiroga\n",
      "198          María Paula Díaz Valenzuela\n",
      "199    Rodrigo Javier Quiroga Valenzuela\n",
      "200        Pamela Constanza Castro Muñoz\n",
      "Name: Nombre, Length: 101, dtype: object\n"
     ]
    }
   ],
   "source": [
    "# Mostramos las filas desde el N°100 al N°200.\n",
    "# Luego estas filas pero solo por columna \"RUT\" y \"Nombre\"\n",
    "print(df_pacientes.loc[100:200])\n",
    "print(df_pacientes.loc[100:200][\"RUT\"])\n",
    "print(df_pacientes.loc[100:200][\"Nombre\"])"
   ]
  },
  {
   "cell_type": "code",
   "execution_count": 7,
   "id": "065d5059",
   "metadata": {},
   "outputs": [
    {
     "name": "stdout",
     "output_type": "stream",
     "text": [
      "              RUT                               Nombre     Genero  \\\n",
      "0    16.302.272-9           Andrea Javiera Robles Díaz   FEMENINO   \n",
      "1      5.03.060-9          Daniela Victoria Ruiz López   FEMENINO   \n",
      "2    12.074.719-9        Francisco Felipe Castro Rojas  MASCULINO   \n",
      "3    19.121.201-0        Cecilia Valeria Díaz González   FEMENINO   \n",
      "5    14.647.075-5            María Isabel López Campos   FEMENINO   \n",
      "..            ...                                  ...        ...   \n",
      "991  16.652.447-7        Isidora Pamela Rodríguez Díaz   FEMENINO   \n",
      "992  11.087.707-2  Constanza Isabel Valenzuela Quiroga   FEMENINO   \n",
      "993   4.015.647-9          Ramón Rodrigo Quiroga Rojas  MASCULINO   \n",
      "994   8.016.974-7          Andrea Ignacia Ruiz Quiroga   FEMENINO   \n",
      "997  10.782.816-5       Pablo Bernardo Marín Rodríguez  MASCULINO   \n",
      "\n",
      "    Fecha_Nacimiento Previsión  Monto_Deuda  \n",
      "0          1971/7/11    FONASA      1871093  \n",
      "1          1970/7/23    FONASA       793322  \n",
      "2          1966/2/22    FONASA       320538  \n",
      "3          1998/4/15    FONASA       469335  \n",
      "5          1964/7/18    FONASA       271343  \n",
      "..               ...       ...          ...  \n",
      "991       1969/10/13    FONASA       769840  \n",
      "992         1974/4/8    FONASA      1626593  \n",
      "993       1998/12/20    FONASA      1669076  \n",
      "994        1985/7/26    FONASA      1034949  \n",
      "997        1962/3/19    FONASA      1273143  \n",
      "\n",
      "[701 rows x 6 columns]\n"
     ]
    }
   ],
   "source": [
    "# Los pacientes que tienen previsión FONASA\n",
    "print(df_pacientes.loc[df_pacientes[\"Previsión\"] == \"FONASA\"])"
   ]
  },
  {
   "cell_type": "code",
   "execution_count": 8,
   "id": "7d9419eb",
   "metadata": {},
   "outputs": [
    {
     "data": {
      "text/html": [
       "<div>\n",
       "<style scoped>\n",
       "    .dataframe tbody tr th:only-of-type {\n",
       "        vertical-align: middle;\n",
       "    }\n",
       "\n",
       "    .dataframe tbody tr th {\n",
       "        vertical-align: top;\n",
       "    }\n",
       "\n",
       "    .dataframe thead th {\n",
       "        text-align: right;\n",
       "    }\n",
       "</style>\n",
       "<table border=\"1\" class=\"dataframe\">\n",
       "  <thead>\n",
       "    <tr style=\"text-align: right;\">\n",
       "      <th></th>\n",
       "      <th>RUT</th>\n",
       "      <th>Nombre</th>\n",
       "      <th>Genero</th>\n",
       "      <th>Fecha_Nacimiento</th>\n",
       "      <th>Previsión</th>\n",
       "      <th>Monto_Deuda</th>\n",
       "    </tr>\n",
       "  </thead>\n",
       "  <tbody>\n",
       "    <tr>\n",
       "      <th>0</th>\n",
       "      <td>16.302.272-9</td>\n",
       "      <td>Andrea Javiera Robles Díaz</td>\n",
       "      <td>FEMENINO</td>\n",
       "      <td>1971/7/11</td>\n",
       "      <td>FONASA</td>\n",
       "      <td>1871093</td>\n",
       "    </tr>\n",
       "    <tr>\n",
       "      <th>7</th>\n",
       "      <td>13.350.486-8</td>\n",
       "      <td>Pedro Bernardo Muñoz Vergara</td>\n",
       "      <td>MASCULINO</td>\n",
       "      <td>1990/5/12</td>\n",
       "      <td>FONASA</td>\n",
       "      <td>1130031</td>\n",
       "    </tr>\n",
       "    <tr>\n",
       "      <th>8</th>\n",
       "      <td>14.086.677-4</td>\n",
       "      <td>Pedro Juan Saavedra Quiroga</td>\n",
       "      <td>MASCULINO</td>\n",
       "      <td>1989/9/28</td>\n",
       "      <td>FONASA</td>\n",
       "      <td>1707784</td>\n",
       "    </tr>\n",
       "    <tr>\n",
       "      <th>9</th>\n",
       "      <td>6.111.964-8</td>\n",
       "      <td>Daniela Paula Valenzuela López</td>\n",
       "      <td>FEMENINO</td>\n",
       "      <td>2000/11/6</td>\n",
       "      <td>FONASA</td>\n",
       "      <td>1795495</td>\n",
       "    </tr>\n",
       "    <tr>\n",
       "      <th>11</th>\n",
       "      <td>13.880.857-6</td>\n",
       "      <td>Juan Gabriel Campos Vergara</td>\n",
       "      <td>MASCULINO</td>\n",
       "      <td>1966/6/30</td>\n",
       "      <td>FONASA</td>\n",
       "      <td>1717168</td>\n",
       "    </tr>\n",
       "    <tr>\n",
       "      <th>...</th>\n",
       "      <td>...</td>\n",
       "      <td>...</td>\n",
       "      <td>...</td>\n",
       "      <td>...</td>\n",
       "      <td>...</td>\n",
       "      <td>...</td>\n",
       "    </tr>\n",
       "    <tr>\n",
       "      <th>993</th>\n",
       "      <td>4.015.647-9</td>\n",
       "      <td>Ramón Rodrigo Quiroga Rojas</td>\n",
       "      <td>MASCULINO</td>\n",
       "      <td>1998/12/20</td>\n",
       "      <td>FONASA</td>\n",
       "      <td>1669076</td>\n",
       "    </tr>\n",
       "    <tr>\n",
       "      <th>994</th>\n",
       "      <td>8.016.974-7</td>\n",
       "      <td>Andrea Ignacia Ruiz Quiroga</td>\n",
       "      <td>FEMENINO</td>\n",
       "      <td>1985/7/26</td>\n",
       "      <td>FONASA</td>\n",
       "      <td>1034949</td>\n",
       "    </tr>\n",
       "    <tr>\n",
       "      <th>995</th>\n",
       "      <td>13.780.496-8</td>\n",
       "      <td>Ramón Francisco Valenzuela Valenzuela</td>\n",
       "      <td>MASCULINO</td>\n",
       "      <td>1996/10/12</td>\n",
       "      <td>ISAPRE</td>\n",
       "      <td>1228834</td>\n",
       "    </tr>\n",
       "    <tr>\n",
       "      <th>997</th>\n",
       "      <td>10.782.816-5</td>\n",
       "      <td>Pablo Bernardo Marín Rodríguez</td>\n",
       "      <td>MASCULINO</td>\n",
       "      <td>1962/3/19</td>\n",
       "      <td>FONASA</td>\n",
       "      <td>1273143</td>\n",
       "    </tr>\n",
       "    <tr>\n",
       "      <th>999</th>\n",
       "      <td>20.312.199-4</td>\n",
       "      <td>Francisco Gabriel González González</td>\n",
       "      <td>MASCULINO</td>\n",
       "      <td>1981/7/13</td>\n",
       "      <td>ISAPRE</td>\n",
       "      <td>1251681</td>\n",
       "    </tr>\n",
       "  </tbody>\n",
       "</table>\n",
       "<p>561 rows × 6 columns</p>\n",
       "</div>"
      ],
      "text/plain": [
       "              RUT                                 Nombre     Genero  \\\n",
       "0    16.302.272-9             Andrea Javiera Robles Díaz   FEMENINO   \n",
       "7    13.350.486-8           Pedro Bernardo Muñoz Vergara  MASCULINO   \n",
       "8    14.086.677-4            Pedro Juan Saavedra Quiroga  MASCULINO   \n",
       "9     6.111.964-8         Daniela Paula Valenzuela López   FEMENINO   \n",
       "11   13.880.857-6            Juan Gabriel Campos Vergara  MASCULINO   \n",
       "..            ...                                    ...        ...   \n",
       "993   4.015.647-9            Ramón Rodrigo Quiroga Rojas  MASCULINO   \n",
       "994   8.016.974-7            Andrea Ignacia Ruiz Quiroga   FEMENINO   \n",
       "995  13.780.496-8  Ramón Francisco Valenzuela Valenzuela  MASCULINO   \n",
       "997  10.782.816-5         Pablo Bernardo Marín Rodríguez  MASCULINO   \n",
       "999  20.312.199-4    Francisco Gabriel González González  MASCULINO   \n",
       "\n",
       "    Fecha_Nacimiento Previsión  Monto_Deuda  \n",
       "0          1971/7/11    FONASA      1871093  \n",
       "7          1990/5/12    FONASA      1130031  \n",
       "8          1989/9/28    FONASA      1707784  \n",
       "9          2000/11/6    FONASA      1795495  \n",
       "11         1966/6/30    FONASA      1717168  \n",
       "..               ...       ...          ...  \n",
       "993       1998/12/20    FONASA      1669076  \n",
       "994        1985/7/26    FONASA      1034949  \n",
       "995       1996/10/12    ISAPRE      1228834  \n",
       "997        1962/3/19    FONASA      1273143  \n",
       "999        1981/7/13    ISAPRE      1251681  \n",
       "\n",
       "[561 rows x 6 columns]"
      ]
     },
     "execution_count": 8,
     "metadata": {},
     "output_type": "execute_result"
    }
   ],
   "source": [
    "# Pacientes que tienen un monto adeudado mayor a $1.000.000\n",
    "df_pacientes.loc[df_pacientes[\"Monto_Deuda\"] > 1000000]"
   ]
  },
  {
   "cell_type": "code",
   "execution_count": 9,
   "id": "c307628c",
   "metadata": {},
   "outputs": [
    {
     "name": "stdout",
     "output_type": "stream",
     "text": [
      "0      Chile\n",
      "1      Chile\n",
      "2      Chile\n",
      "3      Chile\n",
      "4      Chile\n",
      "       ...  \n",
      "995    Chile\n",
      "996    Chile\n",
      "997    Chile\n",
      "998    Chile\n",
      "999    Chile\n",
      "Name: Nacionalidad, Length: 1000, dtype: object\n"
     ]
    }
   ],
   "source": [
    "# Agregamos columna nacionalidad y la llenamos de \"Chile\"\n",
    "df_pacientes[\"Nacionalidad\"] = \"Chile\"\n",
    "print(df_pacientes[\"Nacionalidad\"])"
   ]
  },
  {
   "cell_type": "code",
   "execution_count": 10,
   "id": "c6cc0bbf",
   "metadata": {},
   "outputs": [
    {
     "name": "stdout",
     "output_type": "stream",
     "text": [
      "              RUT                                 Nombre     Genero  \\\n",
      "0    16.302.272-9             Andrea Javiera Robles Díaz   FEMENINO   \n",
      "1      5.03.060-9            Daniela Victoria Ruiz López   FEMENINO   \n",
      "2    12.074.719-9          Francisco Felipe Castro Rojas  MASCULINO   \n",
      "3    19.121.201-0          Cecilia Valeria Díaz González   FEMENINO   \n",
      "4    20.348.342-8        Pablo Vicente Valenzuela Campos  MASCULINO   \n",
      "..            ...                                    ...        ...   \n",
      "995  13.780.496-8  Ramón Francisco Valenzuela Valenzuela  MASCULINO   \n",
      "996   6.509.713-1              Isidora María Castro Díaz   FEMENINO   \n",
      "997  10.782.816-5         Pablo Bernardo Marín Rodríguez  MASCULINO   \n",
      "998   8.047.856-4           Isidora Ignacia Díaz Vergara   FEMENINO   \n",
      "999  20.312.199-4    Francisco Gabriel González González  MASCULINO   \n",
      "\n",
      "    Fecha_Nacimiento Previsión  Monto_Deuda Nacionalidad  \n",
      "0          1971/7/11    FONASA   1927225.79        Chile  \n",
      "1          1970/7/23    FONASA    817121.66        Chile  \n",
      "2          1966/2/22    FONASA    330154.14        Chile  \n",
      "3          1998/4/15    FONASA    483415.05        Chile  \n",
      "4          1978/1/15    ISAPRE    781823.56        Chile  \n",
      "..               ...       ...          ...          ...  \n",
      "995       1996/10/12    ISAPRE   1265699.02        Chile  \n",
      "996        1993/3/16    ISAPRE    829236.52        Chile  \n",
      "997        1962/3/19    FONASA   1311337.29        Chile  \n",
      "998       1992/11/13    ISAPRE    145976.75        Chile  \n",
      "999        1981/7/13    ISAPRE   1289231.43        Chile  \n",
      "\n",
      "[1000 rows x 7 columns]\n"
     ]
    }
   ],
   "source": [
    "# Actualizar la deuda en un 3%\n",
    "df_pacientes[\"Monto_Deuda\"] = df_pacientes[\"Monto_Deuda\"] * 1.03\n",
    "print(df_pacientes)"
   ]
  },
  {
   "cell_type": "code",
   "execution_count": 11,
   "id": "4a450efd",
   "metadata": {},
   "outputs": [
    {
     "name": "stdout",
     "output_type": "stream",
     "text": [
      "              RUT                                 Nombre     Genero  \\\n",
      "0    16.302.272-9             Andrea Javiera Robles Díaz   FEMENINO   \n",
      "1      5.03.060-9            Daniela Victoria Ruiz López   FEMENINO   \n",
      "2    12.074.719-9          Francisco Felipe Castro Rojas  MASCULINO   \n",
      "3    19.121.201-0          Cecilia Valeria Díaz González   FEMENINO   \n",
      "4    20.348.342-8        Pablo Vicente Valenzuela Campos  MASCULINO   \n",
      "..            ...                                    ...        ...   \n",
      "995  13.780.496-8  Ramón Francisco Valenzuela Valenzuela  MASCULINO   \n",
      "996   6.509.713-1              Isidora María Castro Díaz   FEMENINO   \n",
      "997  10.782.816-5         Pablo Bernardo Marín Rodríguez  MASCULINO   \n",
      "998   8.047.856-4           Isidora Ignacia Díaz Vergara   FEMENINO   \n",
      "999  20.312.199-4    Francisco Gabriel González González  MASCULINO   \n",
      "\n",
      "    Fecha_Nacimiento Previsión  Monto_Deuda  \n",
      "0          1971/7/11    FONASA   1927225.79  \n",
      "1          1970/7/23    FONASA    817121.66  \n",
      "2          1966/2/22    FONASA    330154.14  \n",
      "3          1998/4/15    FONASA    483415.05  \n",
      "4          1978/1/15    ISAPRE    781823.56  \n",
      "..               ...       ...          ...  \n",
      "995       1996/10/12    ISAPRE   1265699.02  \n",
      "996        1993/3/16    ISAPRE    829236.52  \n",
      "997        1962/3/19    FONASA   1311337.29  \n",
      "998       1992/11/13    ISAPRE    145976.75  \n",
      "999        1981/7/13    ISAPRE   1289231.43  \n",
      "\n",
      "[1000 rows x 6 columns]\n"
     ]
    }
   ],
   "source": [
    "# Eliminar columna Nacionalidad\n",
    "del df_pacientes[\"Nacionalidad\"]\n",
    "print(df_pacientes)"
   ]
  },
  {
   "cell_type": "code",
   "execution_count": 12,
   "id": "97e90bc5",
   "metadata": {},
   "outputs": [
    {
     "data": {
      "text/html": [
       "<div>\n",
       "<style scoped>\n",
       "    .dataframe tbody tr th:only-of-type {\n",
       "        vertical-align: middle;\n",
       "    }\n",
       "\n",
       "    .dataframe tbody tr th {\n",
       "        vertical-align: top;\n",
       "    }\n",
       "\n",
       "    .dataframe thead th {\n",
       "        text-align: right;\n",
       "    }\n",
       "</style>\n",
       "<table border=\"1\" class=\"dataframe\">\n",
       "  <thead>\n",
       "    <tr style=\"text-align: right;\">\n",
       "      <th></th>\n",
       "      <th>Monto_Deuda</th>\n",
       "    </tr>\n",
       "  </thead>\n",
       "  <tbody>\n",
       "    <tr>\n",
       "      <th>count</th>\n",
       "      <td>1.000000e+03</td>\n",
       "    </tr>\n",
       "    <tr>\n",
       "      <th>mean</th>\n",
       "      <td>1.115393e+06</td>\n",
       "    </tr>\n",
       "    <tr>\n",
       "      <th>std</th>\n",
       "      <td>5.742349e+05</td>\n",
       "    </tr>\n",
       "    <tr>\n",
       "      <th>min</th>\n",
       "      <td>1.091779e+05</td>\n",
       "    </tr>\n",
       "    <tr>\n",
       "      <th>25%</th>\n",
       "      <td>6.131410e+05</td>\n",
       "    </tr>\n",
       "    <tr>\n",
       "      <th>50%</th>\n",
       "      <td>1.141549e+06</td>\n",
       "    </tr>\n",
       "    <tr>\n",
       "      <th>75%</th>\n",
       "      <td>1.623918e+06</td>\n",
       "    </tr>\n",
       "    <tr>\n",
       "      <th>max</th>\n",
       "      <td>2.059872e+06</td>\n",
       "    </tr>\n",
       "  </tbody>\n",
       "</table>\n",
       "</div>"
      ],
      "text/plain": [
       "        Monto_Deuda\n",
       "count  1.000000e+03\n",
       "mean   1.115393e+06\n",
       "std    5.742349e+05\n",
       "min    1.091779e+05\n",
       "25%    6.131410e+05\n",
       "50%    1.141549e+06\n",
       "75%    1.623918e+06\n",
       "max    2.059872e+06"
      ]
     },
     "execution_count": 12,
     "metadata": {},
     "output_type": "execute_result"
    }
   ],
   "source": [
    "# Estadisticas\n",
    "df_pacientes.describe()"
   ]
  },
  {
   "cell_type": "code",
   "execution_count": 13,
   "id": "defb0766",
   "metadata": {},
   "outputs": [],
   "source": [
    "# Guardamos los cambios\n",
    "df_pacientes.to_csv(\"datos_pacientes_reajustado.csv\", sep=\";\", index=False)"
   ]
  },
  {
   "cell_type": "code",
   "execution_count": null,
   "id": "0bb5ffde",
   "metadata": {},
   "outputs": [],
   "source": []
  },
  {
   "cell_type": "code",
   "execution_count": null,
   "id": "f179e70b",
   "metadata": {},
   "outputs": [],
   "source": []
  },
  {
   "cell_type": "code",
   "execution_count": null,
   "id": "43377712",
   "metadata": {},
   "outputs": [],
   "source": []
  },
  {
   "cell_type": "code",
   "execution_count": null,
   "id": "0828bf44",
   "metadata": {},
   "outputs": [],
   "source": []
  },
  {
   "cell_type": "code",
   "execution_count": null,
   "id": "c790c779",
   "metadata": {},
   "outputs": [],
   "source": []
  },
  {
   "cell_type": "code",
   "execution_count": null,
   "id": "05868feb",
   "metadata": {},
   "outputs": [],
   "source": []
  },
  {
   "cell_type": "code",
   "execution_count": null,
   "id": "b22eb829",
   "metadata": {},
   "outputs": [],
   "source": []
  },
  {
   "cell_type": "code",
   "execution_count": null,
   "id": "fcfd93a6",
   "metadata": {},
   "outputs": [],
   "source": []
  },
  {
   "cell_type": "code",
   "execution_count": null,
   "id": "7ae659a6",
   "metadata": {},
   "outputs": [],
   "source": []
  },
  {
   "cell_type": "code",
   "execution_count": null,
   "id": "506c7bcb",
   "metadata": {},
   "outputs": [],
   "source": []
  },
  {
   "cell_type": "code",
   "execution_count": null,
   "id": "303de965",
   "metadata": {},
   "outputs": [],
   "source": []
  },
  {
   "cell_type": "code",
   "execution_count": null,
   "id": "812c2863",
   "metadata": {},
   "outputs": [],
   "source": []
  },
  {
   "cell_type": "code",
   "execution_count": null,
   "id": "3fe7ce6e",
   "metadata": {},
   "outputs": [],
   "source": []
  },
  {
   "cell_type": "code",
   "execution_count": null,
   "id": "fb597140",
   "metadata": {},
   "outputs": [],
   "source": []
  },
  {
   "cell_type": "code",
   "execution_count": null,
   "id": "601cb7a9",
   "metadata": {},
   "outputs": [],
   "source": []
  },
  {
   "cell_type": "code",
   "execution_count": null,
   "id": "a99fc918",
   "metadata": {},
   "outputs": [],
   "source": []
  },
  {
   "cell_type": "code",
   "execution_count": null,
   "id": "bb45e266",
   "metadata": {},
   "outputs": [],
   "source": []
  },
  {
   "cell_type": "code",
   "execution_count": null,
   "id": "9175e79e",
   "metadata": {},
   "outputs": [],
   "source": []
  },
  {
   "cell_type": "code",
   "execution_count": null,
   "id": "6b24987a",
   "metadata": {},
   "outputs": [],
   "source": []
  },
  {
   "cell_type": "code",
   "execution_count": null,
   "id": "09a077b7",
   "metadata": {},
   "outputs": [],
   "source": []
  },
  {
   "cell_type": "code",
   "execution_count": null,
   "id": "9b9144e7",
   "metadata": {},
   "outputs": [],
   "source": []
  },
  {
   "cell_type": "code",
   "execution_count": null,
   "id": "d197f5f7",
   "metadata": {},
   "outputs": [],
   "source": []
  },
  {
   "cell_type": "code",
   "execution_count": null,
   "id": "f9a6bc9b",
   "metadata": {},
   "outputs": [],
   "source": []
  },
  {
   "cell_type": "code",
   "execution_count": null,
   "id": "67a558be",
   "metadata": {},
   "outputs": [],
   "source": []
  },
  {
   "cell_type": "code",
   "execution_count": null,
   "id": "1ce2f844",
   "metadata": {},
   "outputs": [],
   "source": []
  },
  {
   "cell_type": "code",
   "execution_count": null,
   "id": "7f95f550",
   "metadata": {},
   "outputs": [],
   "source": []
  },
  {
   "cell_type": "code",
   "execution_count": null,
   "id": "29d85a61",
   "metadata": {},
   "outputs": [],
   "source": []
  },
  {
   "cell_type": "code",
   "execution_count": null,
   "id": "dff98529",
   "metadata": {},
   "outputs": [],
   "source": []
  },
  {
   "cell_type": "code",
   "execution_count": null,
   "id": "1ad9cf8c",
   "metadata": {},
   "outputs": [],
   "source": []
  },
  {
   "cell_type": "code",
   "execution_count": null,
   "id": "40e1b641",
   "metadata": {},
   "outputs": [],
   "source": []
  },
  {
   "cell_type": "code",
   "execution_count": null,
   "id": "d6ab19ee",
   "metadata": {},
   "outputs": [],
   "source": []
  },
  {
   "cell_type": "code",
   "execution_count": null,
   "id": "dd810f49",
   "metadata": {},
   "outputs": [],
   "source": []
  }
 ],
 "metadata": {
  "kernelspec": {
   "display_name": "Python 3",
   "language": "python",
   "name": "python3"
  },
  "language_info": {
   "codemirror_mode": {
    "name": "ipython",
    "version": 3
   },
   "file_extension": ".py",
   "mimetype": "text/x-python",
   "name": "python",
   "nbconvert_exporter": "python",
   "pygments_lexer": "ipython3",
   "version": "3.8.8"
  }
 },
 "nbformat": 4,
 "nbformat_minor": 5
}
