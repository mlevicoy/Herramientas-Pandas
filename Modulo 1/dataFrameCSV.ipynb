{
 "cells": [
  {
   "cell_type": "code",
   "execution_count": 2,
   "id": "1f083786",
   "metadata": {},
   "outputs": [
    {
     "name": "stdout",
     "output_type": "stream",
     "text": [
      "        ID           RUT                              NOMBRE   FECHA_NAC  \\\n",
      "0        0  21.930.631-4            Isabel Blanca Marín Díaz   1997/4/13   \n",
      "1        1  11.269.366-8      Cecilia Paula López Valenzuela   1962/5/28   \n",
      "2        2   9.655.791-3         Vicente Felipe Robles Muñoz    1972/2/2   \n",
      "3        3  16.644.711-4           Daniela María Robles Ruiz    1982/7/7   \n",
      "4        4  17.054.286-6  Isabel Javiera Valenzuela Saavedra    1971/7/5   \n",
      "...    ...           ...                                 ...         ...   \n",
      "996    996  12.568.934-5         Paula Daniela Muñoz Quiroga    1978/9/6   \n",
      "997    997  14.407.999-3          María Valeria Marín Robles   1995/12/0   \n",
      "998    998  20.166.403-3   Ignacio Bernardo López Valenzuela    1962/1/0   \n",
      "999    999  10.715.550-9      Bernardo Pablo Saavedra Castro  1998/11/10   \n",
      "1000  1000  16.396.396-6       Javiera Ignacia Rojas Quiroga   1980/4/11   \n",
      "\n",
      "     TIPO_CLIENTE    MONTO  PUNTAJE_CREDITICIO  \n",
      "0               C  5407949                1.17  \n",
      "1               A  8153651                2.37  \n",
      "2               E  9509104                9.91  \n",
      "3               B  6065538                2.86  \n",
      "4               C  8024077                0.56  \n",
      "...           ...      ...                 ...  \n",
      "996             B  5052388                6.01  \n",
      "997             B   765834                8.69  \n",
      "998             E  7822257                7.32  \n",
      "999             D  8506664                9.92  \n",
      "1000            C  7853434                0.10  \n",
      "\n",
      "[1001 rows x 7 columns]\n"
     ]
    }
   ],
   "source": [
    "import pandas as pd\n",
    "df = pd.read_csv(\"clientes.csv\", encoding=\"latin-1\", sep=\";\")\n",
    "print(df)"
   ]
  },
  {
   "cell_type": "code",
   "execution_count": 3,
   "id": "9bbf6bc1",
   "metadata": {},
   "outputs": [
    {
     "name": "stdout",
     "output_type": "stream",
     "text": [
      "ID                      int64\n",
      "RUT                    object\n",
      "NOMBRE                 object\n",
      "FECHA_NAC              object\n",
      "TIPO_CLIENTE           object\n",
      "MONTO                   int64\n",
      "PUNTAJE_CREDITICIO    float64\n",
      "dtype: object\n"
     ]
    }
   ],
   "source": [
    "print(df.dtypes)"
   ]
  },
  {
   "cell_type": "code",
   "execution_count": 4,
   "id": "e03e07c2",
   "metadata": {},
   "outputs": [
    {
     "name": "stdout",
     "output_type": "stream",
     "text": [
      "0       21.930.631-4\n",
      "1       11.269.366-8\n",
      "2        9.655.791-3\n",
      "3       16.644.711-4\n",
      "4       17.054.286-6\n",
      "            ...     \n",
      "996     12.568.934-5\n",
      "997     14.407.999-3\n",
      "998     20.166.403-3\n",
      "999     10.715.550-9\n",
      "1000    16.396.396-6\n",
      "Name: RUT, Length: 1001, dtype: object\n"
     ]
    }
   ],
   "source": [
    "print(df[\"RUT\"])"
   ]
  },
  {
   "cell_type": "code",
   "execution_count": 5,
   "id": "b1adeccb",
   "metadata": {},
   "outputs": [
    {
     "name": "stdout",
     "output_type": "stream",
     "text": [
      "ID                                             658\n",
      "RUT                                   15.991.075-4\n",
      "NOMBRE                María Daniela Saavedra Marín\n",
      "FECHA_NAC                                1992/5/21\n",
      "TIPO_CLIENTE                                     C\n",
      "MONTO                                       874300\n",
      "PUNTAJE_CREDITICIO                            1.66\n",
      "Name: 658, dtype: object\n"
     ]
    }
   ],
   "source": [
    "print(df.loc[658])"
   ]
  },
  {
   "cell_type": "code",
   "execution_count": 6,
   "id": "81ea6c47",
   "metadata": {},
   "outputs": [
    {
     "name": "stdout",
     "output_type": "stream",
     "text": [
      "      ID           RUT                              NOMBRE   FECHA_NAC  \\\n",
      "100  100   8.489.240-5           Felipe Andrés Muñoz Rojas   1980/9/10   \n",
      "101  101  11.615.086-5    Ramón Gabriel Saavedra Rodríguez   1977/5/29   \n",
      "102  102  12.061.292-0  María Isidora Valenzuela Rodríguez    1980/3/5   \n",
      "103  103  13.381.106-8         Vicente Juan Marín Saavedra   1969/4/19   \n",
      "104  104  12.866.411-7    Valeria Pamela Saavedra Saavedra  1991/10/28   \n",
      "105  105  8.929.258-10   Andrés Ramón Rodríguez Valenzuela   1961/9/27   \n",
      "\n",
      "    TIPO_CLIENTE    MONTO  PUNTAJE_CREDITICIO  \n",
      "100            E  1361720                0.14  \n",
      "101            B  5680734                8.39  \n",
      "102            D  3130145                0.98  \n",
      "103            C  3307564                0.62  \n",
      "104            E  6225013                6.77  \n",
      "105            E  1368881                7.42  \n"
     ]
    }
   ],
   "source": [
    "print(df.loc[100:105])"
   ]
  },
  {
   "cell_type": "code",
   "execution_count": 7,
   "id": "193e8997",
   "metadata": {},
   "outputs": [
    {
     "name": "stdout",
     "output_type": "stream",
     "text": [
      "1992/5/21\n"
     ]
    }
   ],
   "source": [
    "print(df.loc[658][\"FECHA_NAC\"])"
   ]
  },
  {
   "cell_type": "code",
   "execution_count": 9,
   "id": "94068358",
   "metadata": {},
   "outputs": [
    {
     "name": "stdout",
     "output_type": "stream",
     "text": [
      "      ID            RUT                               NOMBRE  FECHA_NAC  \\\n",
      "2      2    9.655.791-3          Vicente Felipe Robles Muñoz   1972/2/2   \n",
      "8      8   20.749.832-5   Felipe Andrés Rodríguez Valenzuela   1973/2/9   \n",
      "13    13   17.452.036-6         Ramón Vicente Vergara Robles  1997/7/16   \n",
      "14    14  20.481.183-10         Andrés Francisco López López  1977/7/27   \n",
      "16    16    5.814.759-5         Andrés Felipe Quiroga Robles  1990/7/17   \n",
      "..   ...            ...                                  ...        ...   \n",
      "989  989   15.116.681-1       Vicente Pedro Rodríguez Campos  1966/4/17   \n",
      "992  992    7.184.479-2         Isidora Paula Vergara Robles  1984/10/8   \n",
      "993  993   10.302.602-4  Javiera Cecilia Saavedra Valenzuela   1973/6/7   \n",
      "995  995   11.942.539-4      Isidora Javiera López Rodríguez   1977/1/5   \n",
      "998  998   20.166.403-3    Ignacio Bernardo López Valenzuela   1962/1/0   \n",
      "\n",
      "    TIPO_CLIENTE    MONTO  PUNTAJE_CREDITICIO  \n",
      "2              E  9509104                9.91  \n",
      "8              E  4441737                8.18  \n",
      "13             E  8845556                5.90  \n",
      "14             E  6285039                4.68  \n",
      "16             E  7790975                0.91  \n",
      "..           ...      ...                 ...  \n",
      "989            E  1472637                1.39  \n",
      "992            E  3174100                1.92  \n",
      "993            E  2068637                6.30  \n",
      "995            E  2949763                1.17  \n",
      "998            E  7822257                7.32  \n",
      "\n",
      "[193 rows x 7 columns]\n"
     ]
    }
   ],
   "source": [
    "print(df.loc[df[\"TIPO_CLIENTE\"] == \"E\"])"
   ]
  },
  {
   "cell_type": "code",
   "execution_count": 11,
   "id": "5dab3025",
   "metadata": {},
   "outputs": [
    {
     "name": "stdout",
     "output_type": "stream",
     "text": [
      "        ID           RUT                              NOMBRE   FECHA_NAC  \\\n",
      "0        0  21.930.631-4            Isabel Blanca Marín Díaz   1997/4/13   \n",
      "1        1  11.269.366-8      Cecilia Paula López Valenzuela   1962/5/28   \n",
      "2        2   9.655.791-3         Vicente Felipe Robles Muñoz    1972/2/2   \n",
      "3        3  16.644.711-4           Daniela María Robles Ruiz    1982/7/7   \n",
      "4        4  17.054.286-6  Isabel Javiera Valenzuela Saavedra    1971/7/5   \n",
      "...    ...           ...                                 ...         ...   \n",
      "996    996  12.568.934-5         Paula Daniela Muñoz Quiroga    1978/9/6   \n",
      "997    997  14.407.999-3          María Valeria Marín Robles   1995/12/0   \n",
      "998    998  20.166.403-3   Ignacio Bernardo López Valenzuela    1962/1/0   \n",
      "999    999  10.715.550-9      Bernardo Pablo Saavedra Castro  1998/11/10   \n",
      "1000  1000  16.396.396-6       Javiera Ignacia Rojas Quiroga   1980/4/11   \n",
      "\n",
      "     TIPO_CLIENTE    MONTO  PUNTAJE_CREDITICIO  \n",
      "0               C  5407949                1.17  \n",
      "1               A  8153651                2.37  \n",
      "2               E  9509104                9.91  \n",
      "3               B  6065538                2.86  \n",
      "4               C  8024077                0.56  \n",
      "...           ...      ...                 ...  \n",
      "996             B  5052388                6.01  \n",
      "997             B   765834                8.69  \n",
      "998             E  7822257                7.32  \n",
      "999             D  8506664                9.92  \n",
      "1000            C  7853434                0.10  \n",
      "\n",
      "[993 rows x 7 columns]\n"
     ]
    }
   ],
   "source": [
    "print(df.loc[df[\"MONTO\"] > 100000])"
   ]
  },
  {
   "cell_type": "code",
   "execution_count": 12,
   "id": "17f3606a",
   "metadata": {},
   "outputs": [
    {
     "name": "stdout",
     "output_type": "stream",
     "text": [
      "        ID            RUT                              NOMBRE  FECHA_NAC  \\\n",
      "0        0   21.930.631-4            Isabel Blanca Marín Díaz  1997/4/13   \n",
      "1        1   11.269.366-8      Cecilia Paula López Valenzuela  1962/5/28   \n",
      "3        3   16.644.711-4           Daniela María Robles Ruiz   1982/7/7   \n",
      "4        4   17.054.286-6  Isabel Javiera Valenzuela Saavedra   1971/7/5   \n",
      "5        5   11.170.160-6       Vicente Vicente Marín Vergara  1971/7/11   \n",
      "...    ...            ...                                 ...        ...   \n",
      "994    994  21.307.599-10      Andrea Constanza Castro Robles  1992/7/10   \n",
      "995    995   11.942.539-4     Isidora Javiera López Rodríguez   1977/1/5   \n",
      "996    996   12.568.934-5         Paula Daniela Muñoz Quiroga   1978/9/6   \n",
      "998    998   20.166.403-3   Ignacio Bernardo López Valenzuela   1962/1/0   \n",
      "1000  1000   16.396.396-6       Javiera Ignacia Rojas Quiroga  1980/4/11   \n",
      "\n",
      "     TIPO_CLIENTE    MONTO  PUNTAJE_CREDITICIO  \n",
      "0               C  5407949                1.17  \n",
      "1               A  8153651                2.37  \n",
      "3               B  6065538                2.86  \n",
      "4               C  8024077                0.56  \n",
      "5               C  4056141                5.98  \n",
      "...           ...      ...                 ...  \n",
      "994             D  9277469                2.31  \n",
      "995             E  2949763                1.17  \n",
      "996             B  5052388                6.01  \n",
      "998             E  7822257                7.32  \n",
      "1000            C  7853434                0.10  \n",
      "\n",
      "[796 rows x 7 columns]\n"
     ]
    }
   ],
   "source": [
    "print(df.loc[df[\"PUNTAJE_CREDITICIO\"] <= 8.0])"
   ]
  },
  {
   "cell_type": "code",
   "execution_count": 14,
   "id": "11780156",
   "metadata": {},
   "outputs": [
    {
     "name": "stdout",
     "output_type": "stream",
     "text": [
      "        ID           RUT                              NOMBRE   FECHA_NAC  \\\n",
      "0        0  21.930.631-4            Isabel Blanca Marín Díaz   1997/4/13   \n",
      "1        1  11.269.366-8      Cecilia Paula López Valenzuela   1962/5/28   \n",
      "2        2   9.655.791-3         Vicente Felipe Robles Muñoz    1972/2/2   \n",
      "3        3  16.644.711-4           Daniela María Robles Ruiz    1982/7/7   \n",
      "4        4  17.054.286-6  Isabel Javiera Valenzuela Saavedra    1971/7/5   \n",
      "...    ...           ...                                 ...         ...   \n",
      "996    996  12.568.934-5         Paula Daniela Muñoz Quiroga    1978/9/6   \n",
      "997    997  14.407.999-3          María Valeria Marín Robles   1995/12/0   \n",
      "998    998  20.166.403-3   Ignacio Bernardo López Valenzuela    1962/1/0   \n",
      "999    999  10.715.550-9      Bernardo Pablo Saavedra Castro  1998/11/10   \n",
      "1000  1000  16.396.396-6       Javiera Ignacia Rojas Quiroga   1980/4/11   \n",
      "\n",
      "     TIPO_CLIENTE    MONTO  PUNTAJE_CREDITICIO NACIONALIDAD  \n",
      "0               C  5407949                1.17        CHILE  \n",
      "1               A  8153651                2.37        CHILE  \n",
      "2               E  9509104                9.91        CHILE  \n",
      "3               B  6065538                2.86        CHILE  \n",
      "4               C  8024077                0.56        CHILE  \n",
      "...           ...      ...                 ...          ...  \n",
      "996             B  5052388                6.01        CHILE  \n",
      "997             B   765834                8.69        CHILE  \n",
      "998             E  7822257                7.32        CHILE  \n",
      "999             D  8506664                9.92        CHILE  \n",
      "1000            C  7853434                0.10        CHILE  \n",
      "\n",
      "[1001 rows x 8 columns]\n"
     ]
    }
   ],
   "source": [
    "df[\"NACIONALIDAD\"] = \"CHILE\"\n",
    "print(df)"
   ]
  },
  {
   "cell_type": "code",
   "execution_count": 16,
   "id": "d6db21be",
   "metadata": {},
   "outputs": [
    {
     "name": "stdout",
     "output_type": "stream",
     "text": [
      "        ID           RUT                              NOMBRE   FECHA_NAC  \\\n",
      "0        0  21.930.631-4            Isabel Blanca Marín Díaz   1997/4/13   \n",
      "1        1  11.269.366-8      Cecilia Paula López Valenzuela   1962/5/28   \n",
      "2        2   9.655.791-3         Vicente Felipe Robles Muñoz    1972/2/2   \n",
      "3        3  16.644.711-4           Daniela María Robles Ruiz    1982/7/7   \n",
      "4        4  17.054.286-6  Isabel Javiera Valenzuela Saavedra    1971/7/5   \n",
      "...    ...           ...                                 ...         ...   \n",
      "996    996  12.568.934-5         Paula Daniela Muñoz Quiroga    1978/9/6   \n",
      "997    997  14.407.999-3          María Valeria Marín Robles   1995/12/0   \n",
      "998    998  20.166.403-3   Ignacio Bernardo López Valenzuela    1962/1/0   \n",
      "999    999  10.715.550-9      Bernardo Pablo Saavedra Castro  1998/11/10   \n",
      "1000  1000  16.396.396-6       Javiera Ignacia Rojas Quiroga   1980/4/11   \n",
      "\n",
      "     TIPO_CLIENTE    MONTO  PUNTAJE_CREDITICIO NACIONALIDAD          BONO  \n",
      "0               C  5407949                1.17        CHILE  4.622179e+06  \n",
      "1               A  8153651                2.37        CHILE  3.440359e+06  \n",
      "2               E  9509104                9.91        CHILE  9.595463e+05  \n",
      "3               B  6065538                2.86        CHILE  2.120817e+06  \n",
      "4               C  8024077                0.56        CHILE  1.432871e+07  \n",
      "...           ...      ...                 ...          ...           ...  \n",
      "996             B  5052388                6.01        CHILE  8.406636e+05  \n",
      "997             B   765834                8.69        CHILE  8.812819e+04  \n",
      "998             E  7822257                7.32        CHILE  1.068614e+06  \n",
      "999             D  8506664                9.92        CHILE  8.575266e+05  \n",
      "1000            C  7853434                0.10        CHILE  7.853434e+07  \n",
      "\n",
      "[1001 rows x 9 columns]\n"
     ]
    }
   ],
   "source": [
    "df[\"BONO\"] = df[\"MONTO\"] / df[\"PUNTAJE_CREDITICIO\"]\n",
    "print(df)"
   ]
  },
  {
   "cell_type": "code",
   "execution_count": 17,
   "id": "2b1b8781",
   "metadata": {},
   "outputs": [
    {
     "name": "stdout",
     "output_type": "stream",
     "text": [
      "        ID           RUT                              NOMBRE   FECHA_NAC  \\\n",
      "0        0  21.930.631-4            Isabel Blanca Marín Díaz   1997/4/13   \n",
      "1        1  11.269.366-8      Cecilia Paula López Valenzuela   1962/5/28   \n",
      "2        2   9.655.791-3         Vicente Felipe Robles Muñoz    1972/2/2   \n",
      "3        3  16.644.711-4           Daniela María Robles Ruiz    1982/7/7   \n",
      "4        4  17.054.286-6  Isabel Javiera Valenzuela Saavedra    1971/7/5   \n",
      "...    ...           ...                                 ...         ...   \n",
      "996    996  12.568.934-5         Paula Daniela Muñoz Quiroga    1978/9/6   \n",
      "997    997  14.407.999-3          María Valeria Marín Robles   1995/12/0   \n",
      "998    998  20.166.403-3   Ignacio Bernardo López Valenzuela    1962/1/0   \n",
      "999    999  10.715.550-9      Bernardo Pablo Saavedra Castro  1998/11/10   \n",
      "1000  1000  16.396.396-6       Javiera Ignacia Rojas Quiroga   1980/4/11   \n",
      "\n",
      "     TIPO_CLIENTE    MONTO  PUNTAJE_CREDITICIO          BONO  \n",
      "0               C  5407949                1.17  4.622179e+06  \n",
      "1               A  8153651                2.37  3.440359e+06  \n",
      "2               E  9509104                9.91  9.595463e+05  \n",
      "3               B  6065538                2.86  2.120817e+06  \n",
      "4               C  8024077                0.56  1.432871e+07  \n",
      "...           ...      ...                 ...           ...  \n",
      "996             B  5052388                6.01  8.406636e+05  \n",
      "997             B   765834                8.69  8.812819e+04  \n",
      "998             E  7822257                7.32  1.068614e+06  \n",
      "999             D  8506664                9.92  8.575266e+05  \n",
      "1000            C  7853434                0.10  7.853434e+07  \n",
      "\n",
      "[1001 rows x 8 columns]\n"
     ]
    }
   ],
   "source": [
    "del df[\"NACIONALIDAD\"]\n",
    "print(df)"
   ]
  },
  {
   "cell_type": "code",
   "execution_count": 18,
   "id": "90ca0453",
   "metadata": {},
   "outputs": [
    {
     "name": "stdout",
     "output_type": "stream",
     "text": [
      "                ID         MONTO  PUNTAJE_CREDITICIO          BONO\n",
      "count  1001.000000  1.001000e+03         1001.000000  1.001000e+03\n",
      "mean    500.000000  4.863262e+06            5.073077           inf\n",
      "std     289.108111  2.864435e+06            2.872472           NaN\n",
      "min       0.000000  1.055300e+04            0.000000  3.452405e+03\n",
      "25%     250.000000  2.435418e+06            2.630000  4.546002e+05\n",
      "50%     500.000000  4.781938e+06            5.130000  9.830709e+05\n",
      "75%     750.000000  7.402329e+06            7.560000  1.866841e+06\n",
      "max    1000.000000  9.998301e+06            9.990000           inf\n"
     ]
    }
   ],
   "source": [
    "print(df.describe())"
   ]
  },
  {
   "cell_type": "code",
   "execution_count": 19,
   "id": "2d8d666d",
   "metadata": {},
   "outputs": [],
   "source": [
    "df.to_csv(\"cliente_modificado.csv\", sep=\";\", index=False)"
   ]
  },
  {
   "cell_type": "code",
   "execution_count": null,
   "id": "3caf6855",
   "metadata": {},
   "outputs": [],
   "source": []
  },
  {
   "cell_type": "code",
   "execution_count": null,
   "id": "7de6052c",
   "metadata": {},
   "outputs": [],
   "source": []
  },
  {
   "cell_type": "code",
   "execution_count": null,
   "id": "a4ac8400",
   "metadata": {},
   "outputs": [],
   "source": []
  },
  {
   "cell_type": "code",
   "execution_count": null,
   "id": "63b9c1f0",
   "metadata": {},
   "outputs": [],
   "source": []
  },
  {
   "cell_type": "code",
   "execution_count": null,
   "id": "6263f235",
   "metadata": {},
   "outputs": [],
   "source": []
  },
  {
   "cell_type": "code",
   "execution_count": null,
   "id": "7d2b6501",
   "metadata": {},
   "outputs": [],
   "source": []
  }
 ],
 "metadata": {
  "kernelspec": {
   "display_name": "Python 3",
   "language": "python",
   "name": "python3"
  },
  "language_info": {
   "codemirror_mode": {
    "name": "ipython",
    "version": 3
   },
   "file_extension": ".py",
   "mimetype": "text/x-python",
   "name": "python",
   "nbconvert_exporter": "python",
   "pygments_lexer": "ipython3",
   "version": "3.8.8"
  }
 },
 "nbformat": 4,
 "nbformat_minor": 5
}
