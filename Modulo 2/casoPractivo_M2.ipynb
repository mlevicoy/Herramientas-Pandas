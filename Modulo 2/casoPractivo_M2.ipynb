{
 "cells": [
  {
   "cell_type": "code",
   "execution_count": 1,
   "id": "40a63713",
   "metadata": {},
   "outputs": [],
   "source": [
    "import pandas as pd"
   ]
  },
  {
   "cell_type": "code",
   "execution_count": 2,
   "id": "2f4f801c",
   "metadata": {},
   "outputs": [
    {
     "data": {
      "text/plain": [
       "Fecha_Hora_Consulta     object\n",
       "RUT                     object\n",
       "Especialidad            object\n",
       "Diag                    object\n",
       "RUT2                    object\n",
       "Costo_consulta         float64\n",
       "dtype: object"
      ]
     },
     "execution_count": 2,
     "metadata": {},
     "output_type": "execute_result"
    }
   ],
   "source": [
    "df_consultas = pd.read_csv(\"consultas.csv\", encoding=\"utf8\", sep=\";\")\n",
    "df_consultas.dtypes"
   ]
  },
  {
   "cell_type": "code",
   "execution_count": 3,
   "id": "a2e2abbf",
   "metadata": {},
   "outputs": [
    {
     "data": {
      "text/plain": [
       "Fecha_Hora_Consulta    datetime64[ns]\n",
       "RUT                            object\n",
       "Especialidad                   object\n",
       "Diag                           object\n",
       "RUT2                           object\n",
       "Costo_consulta                float64\n",
       "dtype: object"
      ]
     },
     "execution_count": 3,
     "metadata": {},
     "output_type": "execute_result"
    }
   ],
   "source": [
    "# Paso 2\n",
    "df_consultas[\"Fecha_Hora_Consulta\"] = df_consultas[\"Fecha_Hora_Consulta\"].astype(\"datetime64\")\n",
    "df_consultas.dtypes"
   ]
  },
  {
   "cell_type": "code",
   "execution_count": 4,
   "id": "4cb23421",
   "metadata": {},
   "outputs": [
    {
     "name": "stdout",
     "output_type": "stream",
     "text": [
      "(200, 6)\n",
      "1200\n"
     ]
    }
   ],
   "source": [
    "# Paso 3\n",
    "print(df_consultas.shape)\n",
    "print(df_consultas.size)"
   ]
  },
  {
   "cell_type": "code",
   "execution_count": 5,
   "id": "aae50e03",
   "metadata": {},
   "outputs": [],
   "source": [
    "# Paso 4\n",
    "df_consultas = df_consultas.set_index(\"RUT\")"
   ]
  },
  {
   "cell_type": "code",
   "execution_count": 6,
   "id": "d33fa260",
   "metadata": {},
   "outputs": [
    {
     "name": "stdout",
     "output_type": "stream",
     "text": [
      "             Fecha_Hora_Consulta      Especialidad          Diag  \\\n",
      "RUT                                                                \n",
      "15.439.959-0          2018-11-15       Cardiología  Enfermedad 6   \n",
      "6.369.292-4           2018-02-27  Medicina General  Enfermedad 0   \n",
      "16.566.679-4          2018-03-02       Cardiología  Enfermedad 6   \n",
      "18.124.934-0          2018-09-18       Cardiología  Enfermedad 6   \n",
      "18.993.070-0          2018-08-27       Cardiología  Enfermedad 6   \n",
      "16.155.602-8          2018-07-09      Dermatología  Enfermedad 3   \n",
      "21.553.711-7          2018-07-26       Cardiología  Enfermedad 6   \n",
      "12.813.415-7          2018-04-21      Dermatología  Enfermedad 3   \n",
      "18.434.658-2          2018-06-08      Dermatología  Enfermedad 3   \n",
      "8.258.073-8           2018-01-22       Cardiología  Enfermedad 6   \n",
      "\n",
      "                      RUT2  Costo_consulta  \n",
      "RUT                                         \n",
      "15.439.959-0  20.066.428-9         21000.0  \n",
      "6.369.292-4   10.380.018-6         14000.0  \n",
      "16.566.679-4  17.552.891-4         20000.0  \n",
      "18.124.934-0  20.833.661-5         31000.0  \n",
      "18.993.070-0  20.066.428-9         18000.0  \n",
      "16.155.602-8  14.954.461-1         23000.0  \n",
      "21.553.711-7   9.843.278-9         40000.0  \n",
      "12.813.415-7  13.888.905-2         27000.0  \n",
      "18.434.658-2  11.541.171-8         45000.0  \n",
      "8.258.073-8    7.449.554-6         39000.0  \n"
     ]
    }
   ],
   "source": [
    "# Paso 5\n",
    "print(df_consultas.head(10))"
   ]
  },
  {
   "cell_type": "code",
   "execution_count": 7,
   "id": "878aba11",
   "metadata": {},
   "outputs": [
    {
     "name": "stdout",
     "output_type": "stream",
     "text": [
      "             Fecha_Hora_Consulta      Especialidad          Diag  \\\n",
      "RUT                                                                \n",
      "11.660.077-1          2018-05-01  Medicina General  Enfermedad 0   \n",
      "6.926.940-5           2018-10-31      Dermatología  Enfermedad 3   \n",
      "18.782.070-4          2018-11-30      Dermatología  Enfermedad 3   \n",
      "17.779.449-4          2018-12-07      Dermatología  Enfermedad 3   \n",
      "16.389.122-7          2018-04-29      Dermatología  Enfermedad 3   \n",
      "4.464.429-4           2018-12-03       Cardiología  Enfermedad 6   \n",
      "9.097.028-5           2018-11-09      Dermatología  Enfermedad 3   \n",
      "21.220.974-4          2018-10-06  Medicina General  Enfermedad 0   \n",
      "10.742.393-7          2018-09-13  Medicina General  Enfermedad 0   \n",
      "6.033.112-2           2018-01-10      Dermatología  Enfermedad 3   \n",
      "\n",
      "                      RUT2  Costo_consulta  \n",
      "RUT                                         \n",
      "11.660.077-1  14.551.892-2         23000.0  \n",
      "6.926.940-5    8.806.736-6         33000.0  \n",
      "18.782.070-4  11.541.171-8         14000.0  \n",
      "17.779.449-4   5.137.429-3         42000.0  \n",
      "16.389.122-7   9.033.905-8         43000.0  \n",
      "4.464.429-4   16.564.763-2         31000.0  \n",
      "9.097.028-5    9.029.028-9         34000.0  \n",
      "21.220.974-4   9.033.905-8         20000.0  \n",
      "10.742.393-7  20.395.046-6         28000.0  \n",
      "6.033.112-2   18.278.361-1         21000.0  \n"
     ]
    }
   ],
   "source": [
    "print(df_consultas.tail(10))"
   ]
  },
  {
   "cell_type": "code",
   "execution_count": 11,
   "id": "2641da89",
   "metadata": {},
   "outputs": [
    {
     "name": "stdout",
     "output_type": "stream",
     "text": [
      "Fecha_Hora_Consulta    2018-06-13 00:00:00\n",
      "Especialidad              Medicina General\n",
      "Diag                          Enfermedad 0\n",
      "RUT2                           8.806.736-6\n",
      "Costo_consulta                     45000.0\n",
      "Name: 6.079.686-2, dtype: object\n",
      "             Fecha_Hora_Consulta      Especialidad          Diag  \\\n",
      "RUT                                                                \n",
      "4.367.282-7           2018-02-11      Dermatología  Enfermedad 3   \n",
      "13.507.971-0          2018-03-14       Cardiología  Enfermedad 6   \n",
      "7.043.338-8           2018-09-15      Dermatología  Enfermedad 3   \n",
      "6.415.057-3           2018-03-04  Medicina General  Enfermedad 0   \n",
      "9.022.257-2           2018-09-10       Cardiología  Enfermedad 6   \n",
      "5.012.158-8           2018-05-20      Dermatología  Enfermedad 3   \n",
      "5.873.216-0           2018-11-04       Cardiología  Enfermedad 6   \n",
      "4.786.472-1           2018-05-06  Medicina General  Enfermedad 0   \n",
      "14.648.384-5          2018-06-27      Dermatología  Enfermedad 3   \n",
      "21.270.301-0          2018-07-08       Cardiología  Enfermedad 6   \n",
      "13.883.820-9          2018-08-06      Dermatología  Enfermedad 3   \n",
      "14.647.763-3          2018-05-14       Cardiología  Enfermedad 6   \n",
      "19.720.286-0          2018-08-10  Medicina General  Enfermedad 0   \n",
      "5.151.941-1           2018-09-14       Cardiología  Enfermedad 6   \n",
      "17.964.252-8          2018-08-09      Dermatología  Enfermedad 3   \n",
      "21.267.566-5          2018-02-11      Dermatología  Enfermedad 3   \n",
      "4.762.194-6           2018-08-21  Medicina General  Enfermedad 0   \n",
      "6.388.024-5           2018-04-12  Medicina General  Enfermedad 0   \n",
      "8.876.840-5           2018-08-08  Medicina General  Enfermedad 0   \n",
      "18.361.475-5          2018-06-11  Medicina General  Enfermedad 0   \n",
      "15.104.867-6          2018-05-10  Medicina General  Enfermedad 0   \n",
      "4.367.283-7           2018-07-06      Dermatología  Enfermedad 3   \n",
      "5.862.330-5           2018-06-02      Dermatología  Enfermedad 3   \n",
      "9.363.222-0           2018-03-08  Medicina General  Enfermedad 0   \n",
      "10.398.526-6          2018-12-21       Cardiología  Enfermedad 6   \n",
      "13.168.612-3          2018-05-23      Dermatología  Enfermedad 3   \n",
      "21.188.758-2          2018-03-27       Cardiología  Enfermedad 6   \n",
      "12.887.540-5          2018-10-04       Cardiología  Enfermedad 6   \n",
      "19.500.328-3          2018-07-30  Medicina General  Enfermedad 0   \n",
      "\n",
      "                      RUT2  Costo_consulta  \n",
      "RUT                                         \n",
      "4.367.282-7    7.449.554-6         30000.0  \n",
      "13.507.971-0  13.125.344-3         28000.0  \n",
      "7.043.338-8   14.551.892-2         23000.0  \n",
      "6.415.057-3   15.444.577-3         34000.0  \n",
      "9.022.257-2   18.278.361-1         17000.0  \n",
      "5.012.158-8    8.806.736-6             NaN  \n",
      "5.873.216-0   17.552.891-4             NaN  \n",
      "4.786.472-1   10.372.316-3         33000.0  \n",
      "14.648.384-5  19.877.621-7         42000.0  \n",
      "21.270.301-0   9.770.390-5         17000.0  \n",
      "13.883.820-9  11.650.382-8             NaN  \n",
      "14.647.763-3   9.863.883-7         32000.0  \n",
      "19.720.286-0  20.395.046-6         40000.0  \n",
      "5.151.941-1   11.650.382-8         20000.0  \n",
      "17.964.252-8   9.033.905-8         18000.0  \n",
      "21.267.566-5   8.806.736-6         45000.0  \n",
      "4.762.194-6   10.380.018-6         21000.0  \n",
      "6.388.024-5   10.372.316-3         33000.0  \n",
      "8.876.840-5   13.125.344-3         24000.0  \n",
      "18.361.475-5  16.940.133-6         28000.0  \n",
      "15.104.867-6  18.278.361-1         19000.0  \n",
      "4.367.283-7   10.586.335-1         24000.0  \n",
      "5.862.330-5   14.551.892-2         25000.0  \n",
      "9.363.222-0   10.586.335-1         33000.0  \n",
      "10.398.526-6  18.945.380-7         28000.0  \n",
      "13.168.612-3   9.843.278-9         22000.0  \n",
      "21.188.758-2   9.033.905-8         25000.0  \n",
      "12.887.540-5  20.677.679-0         32000.0  \n",
      "19.500.328-3  13.888.905-2         27000.0  \n",
      "Fecha_Hora_Consulta    2018-06-24 00:00:00\n",
      "Especialidad              Medicina General\n",
      "Diag                          Enfermedad 0\n",
      "RUT2                          17.552.891-4\n",
      "Costo_consulta                     19000.0\n",
      "Name: 15.314.101-2, dtype: object\n",
      "             Fecha_Hora_Consulta      Especialidad          Diag  \\\n",
      "RUT                                                                \n",
      "7.364.238-5           2018-03-11  Medicina General  Enfermedad 0   \n",
      "8.184.172-7           2018-06-04  Medicina General  Enfermedad 0   \n",
      "13.339.941-8          2018-05-26  Medicina General  Enfermedad 0   \n",
      "6.695.425-2           2018-03-01       Cardiología  Enfermedad 6   \n",
      "13.780.496-8          2018-10-14  Medicina General  Enfermedad 0   \n",
      "6.857.628-7           2018-11-25      Dermatología  Enfermedad 3   \n",
      "14.277.194-1          2018-12-05      Dermatología  Enfermedad 3   \n",
      "4.057.639-2           2018-12-06  Medicina General  Enfermedad 0   \n",
      "4.367.282-7           2018-02-11      Dermatología  Enfermedad 3   \n",
      "13.507.971-0          2018-03-14       Cardiología  Enfermedad 6   \n",
      "7.043.338-8           2018-09-15      Dermatología  Enfermedad 3   \n",
      "6.415.057-3           2018-03-04  Medicina General  Enfermedad 0   \n",
      "9.022.257-2           2018-09-10       Cardiología  Enfermedad 6   \n",
      "5.012.158-8           2018-05-20      Dermatología  Enfermedad 3   \n",
      "\n",
      "                      RUT2  Costo_consulta  \n",
      "RUT                                         \n",
      "7.364.238-5   16.940.133-6         44000.0  \n",
      "8.184.172-7   13.125.344-3             NaN  \n",
      "13.339.941-8   7.449.554-6         16000.0  \n",
      "6.695.425-2    8.806.736-6         30000.0  \n",
      "13.780.496-8  14.954.461-1         37000.0  \n",
      "6.857.628-7   11.541.171-8         19000.0  \n",
      "14.277.194-1  11.541.171-8         26000.0  \n",
      "4.057.639-2   18.945.380-7         27000.0  \n",
      "4.367.282-7    7.449.554-6         30000.0  \n",
      "13.507.971-0  13.125.344-3         28000.0  \n",
      "7.043.338-8   14.551.892-2         23000.0  \n",
      "6.415.057-3   15.444.577-3         34000.0  \n",
      "9.022.257-2   18.278.361-1         17000.0  \n",
      "5.012.158-8    8.806.736-6             NaN  \n"
     ]
    }
   ],
   "source": [
    "# Paso 6 \n",
    "# a)\n",
    "print(df_consultas.loc[\"6.079.686-2\"])\n",
    "# b)\n",
    "print(df_consultas.loc[\"4.367.282-7\":\"19.500.328-3\"])\n",
    "# c)\n",
    "print(df_consultas.iloc[23])\n",
    "# d)\n",
    "print(df_consultas.iloc[76:90])"
   ]
  },
  {
   "cell_type": "code",
   "execution_count": 12,
   "id": "86865614",
   "metadata": {},
   "outputs": [
    {
     "name": "stdout",
     "output_type": "stream",
     "text": [
      "Fecha_Consulta    datetime64[ns]\n",
      "Especialidad              object\n",
      "Diag                      object\n",
      "RUT_medico                object\n",
      "Costo_consulta           float64\n",
      "dtype: object\n"
     ]
    }
   ],
   "source": [
    "# Paso 7\n",
    "df_consultas = df_consultas.rename(columns={\"Fecha_Hora_Consulta\":\"Fecha_Consulta\"})\n",
    "df_consultas = df_consultas.rename(columns={\"RUT2\":\"RUT_medico\"})\n",
    "print(df_consultas.dtypes)"
   ]
  },
  {
   "cell_type": "code",
   "execution_count": 16,
   "id": "81cffa74",
   "metadata": {},
   "outputs": [],
   "source": [
    "# Paso 8\n",
    "df_consultas = df_consultas.fillna(10000)"
   ]
  },
  {
   "cell_type": "code",
   "execution_count": 22,
   "id": "dbef5cbb",
   "metadata": {},
   "outputs": [],
   "source": [
    "# Paso 9\n",
    "df_consultas2 = pd.read_csv(\"consultas2.csv\", encoding=\"utf-8\", sep=\";\")\n",
    "df_consultas = df_consultas.append(df_consultas2)"
   ]
  },
  {
   "cell_type": "code",
   "execution_count": 23,
   "id": "539ebff5",
   "metadata": {},
   "outputs": [],
   "source": [
    "# Paso 10\n",
    "df_consultas = df_consultas.drop(df_consultas.iloc[0:10].index)"
   ]
  },
  {
   "cell_type": "code",
   "execution_count": null,
   "id": "4694a7b6",
   "metadata": {},
   "outputs": [],
   "source": []
  },
  {
   "cell_type": "code",
   "execution_count": null,
   "id": "c7653886",
   "metadata": {},
   "outputs": [],
   "source": []
  },
  {
   "cell_type": "code",
   "execution_count": null,
   "id": "beecf535",
   "metadata": {},
   "outputs": [],
   "source": []
  },
  {
   "cell_type": "code",
   "execution_count": null,
   "id": "2dcef793",
   "metadata": {},
   "outputs": [],
   "source": []
  },
  {
   "cell_type": "code",
   "execution_count": null,
   "id": "c7ca7735",
   "metadata": {},
   "outputs": [],
   "source": []
  },
  {
   "cell_type": "code",
   "execution_count": null,
   "id": "156e785c",
   "metadata": {},
   "outputs": [],
   "source": []
  },
  {
   "cell_type": "code",
   "execution_count": null,
   "id": "5680ccd1",
   "metadata": {},
   "outputs": [],
   "source": []
  },
  {
   "cell_type": "code",
   "execution_count": null,
   "id": "ffe9c786",
   "metadata": {},
   "outputs": [],
   "source": []
  },
  {
   "cell_type": "code",
   "execution_count": null,
   "id": "ac301bef",
   "metadata": {},
   "outputs": [],
   "source": []
  },
  {
   "cell_type": "code",
   "execution_count": null,
   "id": "1afea5a7",
   "metadata": {},
   "outputs": [],
   "source": [
    "\n"
   ]
  },
  {
   "cell_type": "code",
   "execution_count": null,
   "id": "bb7c6449",
   "metadata": {},
   "outputs": [],
   "source": []
  },
  {
   "cell_type": "code",
   "execution_count": null,
   "id": "ccc66cf7",
   "metadata": {},
   "outputs": [],
   "source": []
  },
  {
   "cell_type": "code",
   "execution_count": null,
   "id": "5735351a",
   "metadata": {},
   "outputs": [],
   "source": []
  },
  {
   "cell_type": "code",
   "execution_count": null,
   "id": "4245e040",
   "metadata": {},
   "outputs": [],
   "source": []
  }
 ],
 "metadata": {
  "kernelspec": {
   "display_name": "Python 3",
   "language": "python",
   "name": "python3"
  },
  "language_info": {
   "codemirror_mode": {
    "name": "ipython",
    "version": 3
   },
   "file_extension": ".py",
   "mimetype": "text/x-python",
   "name": "python",
   "nbconvert_exporter": "python",
   "pygments_lexer": "ipython3",
   "version": "3.8.8"
  }
 },
 "nbformat": 4,
 "nbformat_minor": 5
}
