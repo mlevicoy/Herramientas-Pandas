{
 "cells": [
  {
   "cell_type": "code",
   "execution_count": 1,
   "id": "a17679cd",
   "metadata": {},
   "outputs": [],
   "source": [
    "# Cargamos la librería\n",
    "import pandas as pd"
   ]
  },
  {
   "cell_type": "code",
   "execution_count": 2,
   "id": "9d842217",
   "metadata": {},
   "outputs": [
    {
     "name": "stdout",
     "output_type": "stream",
     "text": [
      "ID                      int64\n",
      "RUT                    object\n",
      "NOMBRE                 object\n",
      "FECHA_NAC              object\n",
      "TIPO_CLIENTE           object\n",
      "MONTO                   int64\n",
      "PUNTAJE_CREDITICIO    float64\n",
      "dtype: object\n"
     ]
    }
   ],
   "source": [
    "# Cargamos el fichero\n",
    "df_clientes = pd.read_csv(\"clientes.csv\", encoding=\"latin-1\", sep=\";\")\n",
    "print(df_clientes.dtypes)"
   ]
  },
  {
   "cell_type": "code",
   "execution_count": 3,
   "id": "3c1371cb",
   "metadata": {},
   "outputs": [
    {
     "data": {
      "text/plain": [
       "ID                      int64\n",
       "RUT                    object\n",
       "NOMBRE                 object\n",
       "FECHA_NACIMIENTO       object\n",
       "TIPO_CLIENTE           object\n",
       "MONTO                   int64\n",
       "PUNTAJE_CREDITICIO    float64\n",
       "dtype: object"
      ]
     },
     "execution_count": 3,
     "metadata": {},
     "output_type": "execute_result"
    }
   ],
   "source": [
    "df_clientes = df_clientes.rename(columns={\"FECHA_NAC\":\"FECHA_NACIMIENTO\"})\n",
    "df_clientes.dtypes"
   ]
  },
  {
   "cell_type": "code",
   "execution_count": 4,
   "id": "073d93b7",
   "metadata": {},
   "outputs": [
    {
     "name": "stdout",
     "output_type": "stream",
     "text": [
      "ID                      int64\n",
      "RUT                    object\n",
      "NOMBRE                 object\n",
      "FECHA_NACIMIENTO       object\n",
      "TIPO_CLIENTE           object\n",
      "MONTO                   int64\n",
      "PUNTAJE_CREDITICIO    float64\n",
      "dtype: object\n"
     ]
    }
   ],
   "source": [
    "df_clientes[\"PUNTAJE_CREDITICIO\"] = df_clientes[\"PUNTAJE_CREDITICIO\"].astype(\"float64\")\n",
    "print(df_clientes.dtypes)"
   ]
  },
  {
   "cell_type": "code",
   "execution_count": 5,
   "id": "f9fe5d3b",
   "metadata": {},
   "outputs": [
    {
     "name": "stdout",
     "output_type": "stream",
     "text": [
      "(1001, 7)\n"
     ]
    }
   ],
   "source": [
    "print(df_clientes.shape)"
   ]
  },
  {
   "cell_type": "code",
   "execution_count": 6,
   "id": "1ef5521c",
   "metadata": {},
   "outputs": [
    {
     "name": "stdout",
     "output_type": "stream",
     "text": [
      "7007\n"
     ]
    }
   ],
   "source": [
    "print(df_clientes.size)"
   ]
  },
  {
   "cell_type": "code",
   "execution_count": 7,
   "id": "2d7e5ade",
   "metadata": {},
   "outputs": [
    {
     "name": "stdout",
     "output_type": "stream",
     "text": [
      "        ID           RUT                              NOMBRE FECHA_NACIMIENTO  \\\n",
      "0        0  21.930.631-4            Isabel Blanca Marín Díaz        1997/4/13   \n",
      "1        1  11.269.366-8      Cecilia Paula López Valenzuela        1962/5/28   \n",
      "2        2   9.655.791-3         Vicente Felipe Robles Muñoz         1972/2/2   \n",
      "3        3  16.644.711-4           Daniela María Robles Ruiz         1982/7/7   \n",
      "4        4  17.054.286-6  Isabel Javiera Valenzuela Saavedra         1971/7/5   \n",
      "...    ...           ...                                 ...              ...   \n",
      "996    996  12.568.934-5         Paula Daniela Muñoz Quiroga         1978/9/6   \n",
      "997    997  14.407.999-3          María Valeria Marín Robles        1995/12/0   \n",
      "998    998  20.166.403-3   Ignacio Bernardo López Valenzuela         1962/1/0   \n",
      "999    999  10.715.550-9      Bernardo Pablo Saavedra Castro       1998/11/10   \n",
      "1000  1000  16.396.396-6       Javiera Ignacia Rojas Quiroga        1980/4/11   \n",
      "\n",
      "     TIPO_CLIENTE    MONTO  PUNTAJE_CREDITICIO  \n",
      "0               C  5407949                1.17  \n",
      "1               A  8153651                2.37  \n",
      "2               E  9509104                9.91  \n",
      "3               B  6065538                2.86  \n",
      "4               C  8024077                0.56  \n",
      "...           ...      ...                 ...  \n",
      "996             B  5052388                6.01  \n",
      "997             B   765834                8.69  \n",
      "998             E  7822257                7.32  \n",
      "999             D  8506664                9.92  \n",
      "1000            C  7853434                0.10  \n",
      "\n",
      "[1001 rows x 7 columns]\n"
     ]
    }
   ],
   "source": [
    "print(df_clientes)"
   ]
  },
  {
   "cell_type": "code",
   "execution_count": 8,
   "id": "ae53a81e",
   "metadata": {},
   "outputs": [
    {
     "name": "stdout",
     "output_type": "stream",
     "text": [
      "                ID                              NOMBRE FECHA_NACIMIENTO  \\\n",
      "RUT                                                                       \n",
      "21.930.631-4     0            Isabel Blanca Marín Díaz        1997/4/13   \n",
      "11.269.366-8     1      Cecilia Paula López Valenzuela        1962/5/28   \n",
      "9.655.791-3      2         Vicente Felipe Robles Muñoz         1972/2/2   \n",
      "16.644.711-4     3           Daniela María Robles Ruiz         1982/7/7   \n",
      "17.054.286-6     4  Isabel Javiera Valenzuela Saavedra         1971/7/5   \n",
      "...            ...                                 ...              ...   \n",
      "12.568.934-5   996         Paula Daniela Muñoz Quiroga         1978/9/6   \n",
      "14.407.999-3   997          María Valeria Marín Robles        1995/12/0   \n",
      "20.166.403-3   998   Ignacio Bernardo López Valenzuela         1962/1/0   \n",
      "10.715.550-9   999      Bernardo Pablo Saavedra Castro       1998/11/10   \n",
      "16.396.396-6  1000       Javiera Ignacia Rojas Quiroga        1980/4/11   \n",
      "\n",
      "             TIPO_CLIENTE    MONTO  PUNTAJE_CREDITICIO  \n",
      "RUT                                                     \n",
      "21.930.631-4            C  5407949                1.17  \n",
      "11.269.366-8            A  8153651                2.37  \n",
      "9.655.791-3             E  9509104                9.91  \n",
      "16.644.711-4            B  6065538                2.86  \n",
      "17.054.286-6            C  8024077                0.56  \n",
      "...                   ...      ...                 ...  \n",
      "12.568.934-5            B  5052388                6.01  \n",
      "14.407.999-3            B   765834                8.69  \n",
      "20.166.403-3            E  7822257                7.32  \n",
      "10.715.550-9            D  8506664                9.92  \n",
      "16.396.396-6            C  7853434                0.10  \n",
      "\n",
      "[1001 rows x 6 columns]\n"
     ]
    }
   ],
   "source": [
    "df_clientes = df_clientes.set_index(\"RUT\")\n",
    "print(df_clientes)"
   ]
  },
  {
   "cell_type": "code",
   "execution_count": 9,
   "id": "d7ee99a5",
   "metadata": {},
   "outputs": [
    {
     "name": "stdout",
     "output_type": "stream",
     "text": [
      "              ID                              NOMBRE FECHA_NACIMIENTO  \\\n",
      "RUT                                                                     \n",
      "21.930.631-4   0            Isabel Blanca Marín Díaz        1997/4/13   \n",
      "11.269.366-8   1      Cecilia Paula López Valenzuela        1962/5/28   \n",
      "9.655.791-3    2         Vicente Felipe Robles Muñoz         1972/2/2   \n",
      "16.644.711-4   3           Daniela María Robles Ruiz         1982/7/7   \n",
      "17.054.286-6   4  Isabel Javiera Valenzuela Saavedra         1971/7/5   \n",
      "\n",
      "             TIPO_CLIENTE    MONTO  PUNTAJE_CREDITICIO  \n",
      "RUT                                                     \n",
      "21.930.631-4            C  5407949                1.17  \n",
      "11.269.366-8            A  8153651                2.37  \n",
      "9.655.791-3             E  9509104                9.91  \n",
      "16.644.711-4            B  6065538                2.86  \n",
      "17.054.286-6            C  8024077                0.56  \n"
     ]
    }
   ],
   "source": [
    "print(df_clientes.head())"
   ]
  },
  {
   "cell_type": "code",
   "execution_count": 10,
   "id": "9e6d376a",
   "metadata": {},
   "outputs": [
    {
     "name": "stdout",
     "output_type": "stream",
     "text": [
      "                ID                             NOMBRE FECHA_NACIMIENTO  \\\n",
      "RUT                                                                      \n",
      "12.568.934-5   996        Paula Daniela Muñoz Quiroga         1978/9/6   \n",
      "14.407.999-3   997         María Valeria Marín Robles        1995/12/0   \n",
      "20.166.403-3   998  Ignacio Bernardo López Valenzuela         1962/1/0   \n",
      "10.715.550-9   999     Bernardo Pablo Saavedra Castro       1998/11/10   \n",
      "16.396.396-6  1000      Javiera Ignacia Rojas Quiroga        1980/4/11   \n",
      "\n",
      "             TIPO_CLIENTE    MONTO  PUNTAJE_CREDITICIO  \n",
      "RUT                                                     \n",
      "12.568.934-5            B  5052388                6.01  \n",
      "14.407.999-3            B   765834                8.69  \n",
      "20.166.403-3            E  7822257                7.32  \n",
      "10.715.550-9            D  8506664                9.92  \n",
      "16.396.396-6            C  7853434                0.10  \n"
     ]
    }
   ],
   "source": [
    "print(df_clientes.tail())"
   ]
  },
  {
   "cell_type": "code",
   "execution_count": 11,
   "id": "17a5c9b8",
   "metadata": {},
   "outputs": [
    {
     "name": "stdout",
     "output_type": "stream",
     "text": [
      "ID                                                  998\n",
      "NOMBRE                Ignacio Bernardo López Valenzuela\n",
      "FECHA_NACIMIENTO                               1962/1/0\n",
      "TIPO_CLIENTE                                          E\n",
      "MONTO                                           7822257\n",
      "PUNTAJE_CREDITICIO                                 7.32\n",
      "Name: 20.166.403-3, dtype: object\n"
     ]
    }
   ],
   "source": [
    "print(df_clientes.loc[\"20.166.403-3\"])"
   ]
  },
  {
   "cell_type": "code",
   "execution_count": 12,
   "id": "cdfd3352",
   "metadata": {},
   "outputs": [
    {
     "name": "stdout",
     "output_type": "stream",
     "text": [
      "                ID                              NOMBRE FECHA_NACIMIENTO  \\\n",
      "RUT                                                                       \n",
      "21.930.631-4     0            Isabel Blanca Marín Díaz        1997/4/13   \n",
      "11.269.366-8     1      Cecilia Paula López Valenzuela        1962/5/28   \n",
      "9.655.791-3      2         Vicente Felipe Robles Muñoz         1972/2/2   \n",
      "16.644.711-4     3           Daniela María Robles Ruiz         1982/7/7   \n",
      "17.054.286-6     4  Isabel Javiera Valenzuela Saavedra         1971/7/5   \n",
      "...            ...                                 ...              ...   \n",
      "12.568.934-5   996         Paula Daniela Muñoz Quiroga         1978/9/6   \n",
      "14.407.999-3   997          María Valeria Marín Robles        1995/12/0   \n",
      "20.166.403-3   998   Ignacio Bernardo López Valenzuela         1962/1/0   \n",
      "10.715.550-9   999      Bernardo Pablo Saavedra Castro       1998/11/10   \n",
      "16.396.396-6  1000       Javiera Ignacia Rojas Quiroga        1980/4/11   \n",
      "\n",
      "             TIPO_CLIENTE    MONTO  PUNTAJE_CREDITICIO  \n",
      "RUT                                                     \n",
      "21.930.631-4            C  5407949                1.17  \n",
      "11.269.366-8            A  8153651                2.37  \n",
      "9.655.791-3             E  9509104                9.91  \n",
      "16.644.711-4            B  6065538                2.86  \n",
      "17.054.286-6            C  8024077                0.56  \n",
      "...                   ...      ...                 ...  \n",
      "12.568.934-5            B  5052388                6.01  \n",
      "14.407.999-3            B   765834                8.69  \n",
      "20.166.403-3            E  7822257                7.32  \n",
      "10.715.550-9            D  8506664                9.92  \n",
      "16.396.396-6            C  7853434                0.10  \n",
      "\n",
      "[1001 rows x 6 columns]\n"
     ]
    }
   ],
   "source": [
    "print(df_clientes)"
   ]
  },
  {
   "cell_type": "code",
   "execution_count": 13,
   "id": "2356f79f",
   "metadata": {},
   "outputs": [
    {
     "name": "stdout",
     "output_type": "stream",
     "text": [
      "                ID                              NOMBRE FECHA_NACIMIENTO  \\\n",
      "RUT                                                                       \n",
      "21.930.631-4     0            Isabel Blanca Marín Díaz        1997/4/13   \n",
      "17.054.286-6     4  Isabel Javiera Valenzuela Saavedra         1971/7/5   \n",
      "11.170.160-6     5       Vicente Vicente Marín Vergara        1971/7/11   \n",
      "6.172.108-0      6        Pamela Isabel Castro Vergara        1976/5/11   \n",
      "15.844.106-2     7     Daniela Pamela Saavedra Vergara        1979/6/14   \n",
      "...            ...                                 ...              ...   \n",
      "11.528.775-7   968      Ignacia Ignacia Vergara Robles         1963/5/1   \n",
      "20.453.595-9   979       María Ignacia Rojas Rodríguez        1970/10/8   \n",
      "10.892.212-9   982  Isidora Valeria González Rodríguez        1996/7/13   \n",
      "10.667.321-1   983    Pedro Ramón Valenzuela Rodríguez        1966/2/11   \n",
      "16.396.396-6  1000       Javiera Ignacia Rojas Quiroga        1980/4/11   \n",
      "\n",
      "             TIPO_CLIENTE    MONTO  PUNTAJE_CREDITICIO  \n",
      "RUT                                                     \n",
      "21.930.631-4            C  5407949                1.17  \n",
      "17.054.286-6            C  8024077                0.56  \n",
      "11.170.160-6            C  4056141                5.98  \n",
      "6.172.108-0             C  3061858                3.09  \n",
      "15.844.106-2            C  5197540                2.26  \n",
      "...                   ...      ...                 ...  \n",
      "11.528.775-7            C  2926326                5.66  \n",
      "20.453.595-9            C  3440575                9.35  \n",
      "10.892.212-9            C   675982                9.93  \n",
      "10.667.321-1            C  3912129                2.53  \n",
      "16.396.396-6            C  7853434                0.10  \n",
      "\n",
      "[213 rows x 6 columns]\n"
     ]
    }
   ],
   "source": [
    "print(df_clientes.loc[df_clientes[\"TIPO_CLIENTE\"] == \"C\"])"
   ]
  },
  {
   "cell_type": "code",
   "execution_count": 14,
   "id": "14de6247",
   "metadata": {},
   "outputs": [
    {
     "name": "stdout",
     "output_type": "stream",
     "text": [
      "ID                                                5\n",
      "NOMBRE                Vicente Vicente Marín Vergara\n",
      "FECHA_NACIMIENTO                          1971/7/11\n",
      "TIPO_CLIENTE                                      C\n",
      "MONTO                                       4056141\n",
      "PUNTAJE_CREDITICIO                             5.98\n",
      "Name: 11.170.160-6, dtype: object\n"
     ]
    }
   ],
   "source": [
    "print(df_clientes.iloc[5])"
   ]
  },
  {
   "cell_type": "code",
   "execution_count": 15,
   "id": "5ebb2124",
   "metadata": {},
   "outputs": [
    {
     "name": "stdout",
     "output_type": "stream",
     "text": [
      "              ID                              NOMBRE FECHA_NACIMIENTO  \\\n",
      "RUT                                                                     \n",
      "11.170.160-6   5       Vicente Vicente Marín Vergara        1971/7/11   \n",
      "6.172.108-0    6        Pamela Isabel Castro Vergara        1976/5/11   \n",
      "15.844.106-2   7     Daniela Pamela Saavedra Vergara        1979/6/14   \n",
      "20.749.832-5   8  Felipe Andrés Rodríguez Valenzuela         1973/2/9   \n",
      "\n",
      "             TIPO_CLIENTE    MONTO  PUNTAJE_CREDITICIO  \n",
      "RUT                                                     \n",
      "11.170.160-6            C  4056141                5.98  \n",
      "6.172.108-0             C  3061858                3.09  \n",
      "15.844.106-2            C  5197540                2.26  \n",
      "20.749.832-5            E  4441737                8.18  \n"
     ]
    }
   ],
   "source": [
    "print(df_clientes.iloc[5:9])"
   ]
  },
  {
   "cell_type": "code",
   "execution_count": 16,
   "id": "1a62159d",
   "metadata": {},
   "outputs": [],
   "source": [
    "df_clientes = df_clientes.fillna(\"SIN_INFO\")"
   ]
  },
  {
   "cell_type": "code",
   "execution_count": 17,
   "id": "21909a58",
   "metadata": {},
   "outputs": [
    {
     "name": "stdout",
     "output_type": "stream",
     "text": [
      "                    ID                                NOMBRE FECHA_NACIMIENTO  \\\n",
      "21.930.631-4       0.0              Isabel Blanca Marín Díaz        1997/4/13   \n",
      "11.269.366-8       1.0        Cecilia Paula López Valenzuela        1962/5/28   \n",
      "9.655.791-3        2.0           Vicente Felipe Robles Muñoz         1972/2/2   \n",
      "16.644.711-4       3.0             Daniela María Robles Ruiz         1982/7/7   \n",
      "17.054.286-6       4.0    Isabel Javiera Valenzuela Saavedra         1971/7/5   \n",
      "...                ...                                   ...              ...   \n",
      "14            SIN_INFO          Andrés Francisco López López         SIN_INFO   \n",
      "15            SIN_INFO  Rodrigo Andrés Valenzuela Valenzuela         SIN_INFO   \n",
      "16            SIN_INFO          Andrés Felipe Quiroga Robles         SIN_INFO   \n",
      "17            SIN_INFO         Gabriel Vicente Castro Robles         SIN_INFO   \n",
      "18            SIN_INFO        Felipe Andrés Robles Rodríguez         SIN_INFO   \n",
      "\n",
      "             TIPO_CLIENTE    MONTO  PUNTAJE_CREDITICIO            RUT  \\\n",
      "21.930.631-4            C  5407949                1.17       SIN_INFO   \n",
      "11.269.366-8            A  8153651                2.37       SIN_INFO   \n",
      "9.655.791-3             E  9509104                9.91       SIN_INFO   \n",
      "16.644.711-4            B  6065538                2.86       SIN_INFO   \n",
      "17.054.286-6            C  8024077                0.56       SIN_INFO   \n",
      "...                   ...      ...                 ...            ...   \n",
      "14                      E  6285039                4.68  20.481.183-10   \n",
      "15                      B   668186                9.84    6.355.671-0   \n",
      "16                      E  7790975                0.91    5.814.759-5   \n",
      "17                      B  3156647                7.26  15.452.563-10   \n",
      "18                      E  7976926                9.06    8.471.223-1   \n",
      "\n",
      "             FECHA_NAC  \n",
      "21.930.631-4  SIN_INFO  \n",
      "11.269.366-8  SIN_INFO  \n",
      "9.655.791-3   SIN_INFO  \n",
      "16.644.711-4  SIN_INFO  \n",
      "17.054.286-6  SIN_INFO  \n",
      "...                ...  \n",
      "14            27-07-77  \n",
      "15            01-10-70  \n",
      "16            17-07-90  \n",
      "17            11-06-85  \n",
      "18            06-05-70  \n",
      "\n",
      "[1020 rows x 8 columns]\n"
     ]
    }
   ],
   "source": [
    "df_clientes2 = pd.read_csv(\"clientes2.csv\", encoding=\"latin-1\", sep=\";\")\n",
    "df_clientes = df_clientes.append(df_clientes2)\n",
    "df_clientes = df_clientes.fillna(\"SIN_INFO\")\n",
    "print(df_clientes)"
   ]
  },
  {
   "cell_type": "code",
   "execution_count": 18,
   "id": "55a1b530",
   "metadata": {},
   "outputs": [],
   "source": [
    "df_clientes = df_clientes.drop(df_clientes.iloc[0:10].index)"
   ]
  },
  {
   "cell_type": "code",
   "execution_count": 19,
   "id": "68735e9e",
   "metadata": {},
   "outputs": [
    {
     "name": "stdout",
     "output_type": "stream",
     "text": [
      "                     ID                                NOMBRE  \\\n",
      "9.487.844-9        10.0             Javier Juan Castro Campos   \n",
      "7.271.618-0        11.0   Isidora Andrea Rodríguez Valenzuela   \n",
      "13.674.785-2       12.0             Javier Juan Robles Robles   \n",
      "17.452.036-6       13.0          Ramón Vicente Vergara Robles   \n",
      "20.481.183-10      14.0          Andrés Francisco López López   \n",
      "...                 ...                                   ...   \n",
      "14             SIN_INFO          Andrés Francisco López López   \n",
      "15             SIN_INFO  Rodrigo Andrés Valenzuela Valenzuela   \n",
      "16             SIN_INFO          Andrés Felipe Quiroga Robles   \n",
      "17             SIN_INFO         Gabriel Vicente Castro Robles   \n",
      "18             SIN_INFO        Felipe Andrés Robles Rodríguez   \n",
      "\n",
      "              FECHA_NACIMIENTO TIPO_CLIENTE    MONTO  PUNTAJE_CREDITICIO  \\\n",
      "9.487.844-9           1985/3/0            B  8030691                2.70   \n",
      "7.271.618-0          1976/9/29            B  5832527                8.08   \n",
      "13.674.785-2         1973/7/23            A   469341                2.81   \n",
      "17.452.036-6         1997/7/16            E  8845556                5.90   \n",
      "20.481.183-10        1977/7/27            E  6285039                4.68   \n",
      "...                        ...          ...      ...                 ...   \n",
      "14                    SIN_INFO            E  6285039                4.68   \n",
      "15                    SIN_INFO            B   668186                9.84   \n",
      "16                    SIN_INFO            E  7790975                0.91   \n",
      "17                    SIN_INFO            B  3156647                7.26   \n",
      "18                    SIN_INFO            E  7976926                9.06   \n",
      "\n",
      "                         RUT FECHA_NAC  \n",
      "9.487.844-9         SIN_INFO  SIN_INFO  \n",
      "7.271.618-0         SIN_INFO  SIN_INFO  \n",
      "13.674.785-2        SIN_INFO  SIN_INFO  \n",
      "17.452.036-6        SIN_INFO  SIN_INFO  \n",
      "20.481.183-10       SIN_INFO  SIN_INFO  \n",
      "...                      ...       ...  \n",
      "14             20.481.183-10  27-07-77  \n",
      "15               6.355.671-0  01-10-70  \n",
      "16               5.814.759-5  17-07-90  \n",
      "17             15.452.563-10  11-06-85  \n",
      "18               8.471.223-1  06-05-70  \n",
      "\n",
      "[1010 rows x 8 columns]\n"
     ]
    }
   ],
   "source": [
    "print(df_clientes)"
   ]
  },
  {
   "cell_type": "code",
   "execution_count": null,
   "id": "806659dd",
   "metadata": {},
   "outputs": [],
   "source": []
  },
  {
   "cell_type": "code",
   "execution_count": null,
   "id": "39fbb8ff",
   "metadata": {},
   "outputs": [],
   "source": []
  },
  {
   "cell_type": "code",
   "execution_count": null,
   "id": "e3b8b0ae",
   "metadata": {},
   "outputs": [],
   "source": []
  },
  {
   "cell_type": "code",
   "execution_count": null,
   "id": "cc0216f1",
   "metadata": {},
   "outputs": [],
   "source": []
  },
  {
   "cell_type": "code",
   "execution_count": null,
   "id": "3ac9298f",
   "metadata": {},
   "outputs": [],
   "source": []
  },
  {
   "cell_type": "code",
   "execution_count": null,
   "id": "ce4afd21",
   "metadata": {},
   "outputs": [],
   "source": []
  },
  {
   "cell_type": "code",
   "execution_count": null,
   "id": "0c75cc28",
   "metadata": {},
   "outputs": [],
   "source": []
  },
  {
   "cell_type": "code",
   "execution_count": null,
   "id": "25b3098f",
   "metadata": {},
   "outputs": [],
   "source": []
  },
  {
   "cell_type": "code",
   "execution_count": null,
   "id": "b5eeaec1",
   "metadata": {},
   "outputs": [],
   "source": []
  },
  {
   "cell_type": "code",
   "execution_count": null,
   "id": "7b709e1b",
   "metadata": {},
   "outputs": [],
   "source": []
  },
  {
   "cell_type": "code",
   "execution_count": null,
   "id": "69e9a4c3",
   "metadata": {},
   "outputs": [],
   "source": []
  },
  {
   "cell_type": "code",
   "execution_count": null,
   "id": "8f87b4a0",
   "metadata": {},
   "outputs": [],
   "source": []
  },
  {
   "cell_type": "code",
   "execution_count": null,
   "id": "36616d92",
   "metadata": {},
   "outputs": [],
   "source": []
  },
  {
   "cell_type": "code",
   "execution_count": null,
   "id": "7eba8ccd",
   "metadata": {},
   "outputs": [],
   "source": []
  },
  {
   "cell_type": "code",
   "execution_count": null,
   "id": "8460076d",
   "metadata": {},
   "outputs": [],
   "source": []
  },
  {
   "cell_type": "code",
   "execution_count": null,
   "id": "52999ed0",
   "metadata": {},
   "outputs": [],
   "source": []
  },
  {
   "cell_type": "code",
   "execution_count": null,
   "id": "a14c0336",
   "metadata": {},
   "outputs": [],
   "source": []
  },
  {
   "cell_type": "code",
   "execution_count": null,
   "id": "d5eedaae",
   "metadata": {},
   "outputs": [],
   "source": []
  },
  {
   "cell_type": "code",
   "execution_count": null,
   "id": "658dc978",
   "metadata": {},
   "outputs": [],
   "source": []
  },
  {
   "cell_type": "code",
   "execution_count": null,
   "id": "0021b11b",
   "metadata": {},
   "outputs": [],
   "source": []
  },
  {
   "cell_type": "code",
   "execution_count": null,
   "id": "e2ad948e",
   "metadata": {},
   "outputs": [],
   "source": []
  },
  {
   "cell_type": "code",
   "execution_count": null,
   "id": "91ef0054",
   "metadata": {},
   "outputs": [],
   "source": []
  },
  {
   "cell_type": "code",
   "execution_count": null,
   "id": "cc9b20f6",
   "metadata": {},
   "outputs": [],
   "source": []
  },
  {
   "cell_type": "code",
   "execution_count": null,
   "id": "c12f6b59",
   "metadata": {},
   "outputs": [],
   "source": []
  },
  {
   "cell_type": "code",
   "execution_count": null,
   "id": "208fd12f",
   "metadata": {},
   "outputs": [],
   "source": []
  },
  {
   "cell_type": "code",
   "execution_count": null,
   "id": "adad5997",
   "metadata": {},
   "outputs": [],
   "source": []
  },
  {
   "cell_type": "code",
   "execution_count": null,
   "id": "3a55ef98",
   "metadata": {},
   "outputs": [],
   "source": []
  },
  {
   "cell_type": "code",
   "execution_count": null,
   "id": "30dc65f2",
   "metadata": {},
   "outputs": [],
   "source": []
  },
  {
   "cell_type": "code",
   "execution_count": null,
   "id": "694e75c2",
   "metadata": {},
   "outputs": [],
   "source": []
  }
 ],
 "metadata": {
  "kernelspec": {
   "display_name": "Python 3",
   "language": "python",
   "name": "python3"
  },
  "language_info": {
   "codemirror_mode": {
    "name": "ipython",
    "version": 3
   },
   "file_extension": ".py",
   "mimetype": "text/x-python",
   "name": "python",
   "nbconvert_exporter": "python",
   "pygments_lexer": "ipython3",
   "version": "3.8.8"
  }
 },
 "nbformat": 4,
 "nbformat_minor": 5
}
