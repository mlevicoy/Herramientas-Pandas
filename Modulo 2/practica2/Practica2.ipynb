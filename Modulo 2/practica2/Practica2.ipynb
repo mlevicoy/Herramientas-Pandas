{
 "cells": [
  {
   "cell_type": "code",
   "execution_count": 2,
   "id": "51fb451f",
   "metadata": {},
   "outputs": [
    {
     "data": {
      "text/plain": [
       "Fecha_Hora_Consulta     object\n",
       "RUT                     object\n",
       "Especialidad            object\n",
       "Diag                    object\n",
       "RUT2                    object\n",
       "Costo_consulta         float64\n",
       "dtype: object"
      ]
     },
     "execution_count": 2,
     "metadata": {},
     "output_type": "execute_result"
    }
   ],
   "source": [
    "# 1\n",
    "import pandas as pd\n",
    "df_consultas = pd.read_csv(\"consultas.csv\", encoding=\"utf-8\", sep=\";\")\n",
    "df_consultas.dtypes"
   ]
  },
  {
   "cell_type": "code",
   "execution_count": 3,
   "id": "51018e65",
   "metadata": {},
   "outputs": [
    {
     "data": {
      "text/plain": [
       "Fecha_Hora_Consulta    datetime64[ns]\n",
       "RUT                            object\n",
       "Especialidad                   object\n",
       "Diag                           object\n",
       "RUT2                           object\n",
       "Costo_consulta                float64\n",
       "dtype: object"
      ]
     },
     "execution_count": 3,
     "metadata": {},
     "output_type": "execute_result"
    }
   ],
   "source": [
    "# 2\n",
    "df_consultas[\"Fecha_Hora_Consulta\"] = df_consultas[\"Fecha_Hora_Consulta\"].astype(\"datetime64\")\n",
    "df_consultas.dtypes"
   ]
  },
  {
   "cell_type": "code",
   "execution_count": 6,
   "id": "85be057d",
   "metadata": {},
   "outputs": [
    {
     "name": "stdout",
     "output_type": "stream",
     "text": [
      "(200, 6)\n",
      "1200\n"
     ]
    }
   ],
   "source": [
    "# 3\n",
    "print(df_consultas.shape)\n",
    "print(df_consultas.size)"
   ]
  },
  {
   "cell_type": "code",
   "execution_count": 10,
   "id": "2137047f",
   "metadata": {},
   "outputs": [
    {
     "ename": "KeyError",
     "evalue": "\"None of ['RUT'] are in the columns\"",
     "output_type": "error",
     "traceback": [
      "\u001b[1;31m---------------------------------------------------------------------------\u001b[0m",
      "\u001b[1;31mKeyError\u001b[0m                                  Traceback (most recent call last)",
      "\u001b[1;32m<ipython-input-10-6740fe199159>\u001b[0m in \u001b[0;36m<module>\u001b[1;34m\u001b[0m\n\u001b[1;32m----> 1\u001b[1;33m \u001b[0mdf_consultas\u001b[0m \u001b[1;33m=\u001b[0m \u001b[0mdf_consultas\u001b[0m\u001b[1;33m.\u001b[0m\u001b[0mset_index\u001b[0m\u001b[1;33m(\u001b[0m\u001b[1;34m\"RUT\"\u001b[0m\u001b[1;33m)\u001b[0m\u001b[1;33m\u001b[0m\u001b[1;33m\u001b[0m\u001b[0m\n\u001b[0m",
      "\u001b[1;32m~\\anaconda3\\lib\\site-packages\\pandas\\core\\frame.py\u001b[0m in \u001b[0;36mset_index\u001b[1;34m(self, keys, drop, append, inplace, verify_integrity)\u001b[0m\n\u001b[0;32m   4725\u001b[0m \u001b[1;33m\u001b[0m\u001b[0m\n\u001b[0;32m   4726\u001b[0m         \u001b[1;32mif\u001b[0m \u001b[0mmissing\u001b[0m\u001b[1;33m:\u001b[0m\u001b[1;33m\u001b[0m\u001b[1;33m\u001b[0m\u001b[0m\n\u001b[1;32m-> 4727\u001b[1;33m             \u001b[1;32mraise\u001b[0m \u001b[0mKeyError\u001b[0m\u001b[1;33m(\u001b[0m\u001b[1;34mf\"None of {missing} are in the columns\"\u001b[0m\u001b[1;33m)\u001b[0m\u001b[1;33m\u001b[0m\u001b[1;33m\u001b[0m\u001b[0m\n\u001b[0m\u001b[0;32m   4728\u001b[0m \u001b[1;33m\u001b[0m\u001b[0m\n\u001b[0;32m   4729\u001b[0m         \u001b[1;32mif\u001b[0m \u001b[0minplace\u001b[0m\u001b[1;33m:\u001b[0m\u001b[1;33m\u001b[0m\u001b[1;33m\u001b[0m\u001b[0m\n",
      "\u001b[1;31mKeyError\u001b[0m: \"None of ['RUT'] are in the columns\""
     ]
    }
   ],
   "source": [
    "# 4\n",
    "df_consultas = df_consultas.set_index(\"RUT\")"
   ]
  },
  {
   "cell_type": "code",
   "execution_count": 11,
   "id": "72ead90b",
   "metadata": {},
   "outputs": [
    {
     "name": "stdout",
     "output_type": "stream",
     "text": [
      "             Fecha_Hora_Consulta      Especialidad          Diag  \\\n",
      "RUT                                                                \n",
      "15.439.959-0          2018-11-15       Cardiología  Enfermedad 6   \n",
      "6.369.292-4           2018-02-27  Medicina General  Enfermedad 0   \n",
      "16.566.679-4          2018-03-02       Cardiología  Enfermedad 6   \n",
      "18.124.934-0          2018-09-18       Cardiología  Enfermedad 6   \n",
      "18.993.070-0          2018-08-27       Cardiología  Enfermedad 6   \n",
      "...                          ...               ...           ...   \n",
      "4.464.429-4           2018-12-03       Cardiología  Enfermedad 6   \n",
      "9.097.028-5           2018-11-09      Dermatología  Enfermedad 3   \n",
      "21.220.974-4          2018-10-06  Medicina General  Enfermedad 0   \n",
      "10.742.393-7          2018-09-13  Medicina General  Enfermedad 0   \n",
      "6.033.112-2           2018-01-10      Dermatología  Enfermedad 3   \n",
      "\n",
      "                      RUT2  Costo_consulta  \n",
      "RUT                                         \n",
      "15.439.959-0  20.066.428-9         21000.0  \n",
      "6.369.292-4   10.380.018-6         14000.0  \n",
      "16.566.679-4  17.552.891-4         20000.0  \n",
      "18.124.934-0  20.833.661-5         31000.0  \n",
      "18.993.070-0  20.066.428-9         18000.0  \n",
      "...                    ...             ...  \n",
      "4.464.429-4   16.564.763-2         31000.0  \n",
      "9.097.028-5    9.029.028-9         34000.0  \n",
      "21.220.974-4   9.033.905-8         20000.0  \n",
      "10.742.393-7  20.395.046-6         28000.0  \n",
      "6.033.112-2   18.278.361-1         21000.0  \n",
      "\n",
      "[200 rows x 5 columns]\n"
     ]
    }
   ],
   "source": [
    "print(df_consultas)"
   ]
  },
  {
   "cell_type": "code",
   "execution_count": 12,
   "id": "a27bc87c",
   "metadata": {},
   "outputs": [
    {
     "name": "stdout",
     "output_type": "stream",
     "text": [
      "             Fecha_Hora_Consulta      Especialidad          Diag  \\\n",
      "RUT                                                                \n",
      "15.439.959-0          2018-11-15       Cardiología  Enfermedad 6   \n",
      "6.369.292-4           2018-02-27  Medicina General  Enfermedad 0   \n",
      "16.566.679-4          2018-03-02       Cardiología  Enfermedad 6   \n",
      "18.124.934-0          2018-09-18       Cardiología  Enfermedad 6   \n",
      "18.993.070-0          2018-08-27       Cardiología  Enfermedad 6   \n",
      "\n",
      "                      RUT2  Costo_consulta  \n",
      "RUT                                         \n",
      "15.439.959-0  20.066.428-9         21000.0  \n",
      "6.369.292-4   10.380.018-6         14000.0  \n",
      "16.566.679-4  17.552.891-4         20000.0  \n",
      "18.124.934-0  20.833.661-5         31000.0  \n",
      "18.993.070-0  20.066.428-9         18000.0  \n"
     ]
    }
   ],
   "source": [
    "#5a\n",
    "print(df_consultas.head())"
   ]
  },
  {
   "cell_type": "code",
   "execution_count": 13,
   "id": "7e4e9fcd",
   "metadata": {},
   "outputs": [
    {
     "name": "stdout",
     "output_type": "stream",
     "text": [
      "             Fecha_Hora_Consulta      Especialidad          Diag  \\\n",
      "RUT                                                                \n",
      "4.464.429-4           2018-12-03       Cardiología  Enfermedad 6   \n",
      "9.097.028-5           2018-11-09      Dermatología  Enfermedad 3   \n",
      "21.220.974-4          2018-10-06  Medicina General  Enfermedad 0   \n",
      "10.742.393-7          2018-09-13  Medicina General  Enfermedad 0   \n",
      "6.033.112-2           2018-01-10      Dermatología  Enfermedad 3   \n",
      "\n",
      "                      RUT2  Costo_consulta  \n",
      "RUT                                         \n",
      "4.464.429-4   16.564.763-2         31000.0  \n",
      "9.097.028-5    9.029.028-9         34000.0  \n",
      "21.220.974-4   9.033.905-8         20000.0  \n",
      "10.742.393-7  20.395.046-6         28000.0  \n",
      "6.033.112-2   18.278.361-1         21000.0  \n"
     ]
    }
   ],
   "source": [
    "# 5b\n",
    "print(df_consultas.tail())"
   ]
  },
  {
   "cell_type": "code",
   "execution_count": 14,
   "id": "4be91596",
   "metadata": {},
   "outputs": [
    {
     "name": "stdout",
     "output_type": "stream",
     "text": [
      "Fecha_Hora_Consulta    2018-06-13 00:00:00\n",
      "Especialidad              Medicina General\n",
      "Diag                          Enfermedad 0\n",
      "RUT2                           8.806.736-6\n",
      "Costo_consulta                     45000.0\n",
      "Name: 6.079.686-2, dtype: object\n"
     ]
    }
   ],
   "source": [
    "# 6a\n",
    "print(df_consultas.loc[\"6.079.686-2\"])"
   ]
  },
  {
   "cell_type": "code",
   "execution_count": 15,
   "id": "42326301",
   "metadata": {},
   "outputs": [
    {
     "name": "stdout",
     "output_type": "stream",
     "text": [
      "             Fecha_Hora_Consulta      Especialidad          Diag  \\\n",
      "RUT                                                                \n",
      "4.367.282-7           2018-02-11      Dermatología  Enfermedad 3   \n",
      "13.507.971-0          2018-03-14       Cardiología  Enfermedad 6   \n",
      "7.043.338-8           2018-09-15      Dermatología  Enfermedad 3   \n",
      "6.415.057-3           2018-03-04  Medicina General  Enfermedad 0   \n",
      "9.022.257-2           2018-09-10       Cardiología  Enfermedad 6   \n",
      "5.012.158-8           2018-05-20      Dermatología  Enfermedad 3   \n",
      "5.873.216-0           2018-11-04       Cardiología  Enfermedad 6   \n",
      "4.786.472-1           2018-05-06  Medicina General  Enfermedad 0   \n",
      "14.648.384-5          2018-06-27      Dermatología  Enfermedad 3   \n",
      "21.270.301-0          2018-07-08       Cardiología  Enfermedad 6   \n",
      "13.883.820-9          2018-08-06      Dermatología  Enfermedad 3   \n",
      "14.647.763-3          2018-05-14       Cardiología  Enfermedad 6   \n",
      "19.720.286-0          2018-08-10  Medicina General  Enfermedad 0   \n",
      "5.151.941-1           2018-09-14       Cardiología  Enfermedad 6   \n",
      "17.964.252-8          2018-08-09      Dermatología  Enfermedad 3   \n",
      "21.267.566-5          2018-02-11      Dermatología  Enfermedad 3   \n",
      "4.762.194-6           2018-08-21  Medicina General  Enfermedad 0   \n",
      "6.388.024-5           2018-04-12  Medicina General  Enfermedad 0   \n",
      "8.876.840-5           2018-08-08  Medicina General  Enfermedad 0   \n",
      "18.361.475-5          2018-06-11  Medicina General  Enfermedad 0   \n",
      "15.104.867-6          2018-05-10  Medicina General  Enfermedad 0   \n",
      "4.367.283-7           2018-07-06      Dermatología  Enfermedad 3   \n",
      "5.862.330-5           2018-06-02      Dermatología  Enfermedad 3   \n",
      "9.363.222-0           2018-03-08  Medicina General  Enfermedad 0   \n",
      "10.398.526-6          2018-12-21       Cardiología  Enfermedad 6   \n",
      "13.168.612-3          2018-05-23      Dermatología  Enfermedad 3   \n",
      "21.188.758-2          2018-03-27       Cardiología  Enfermedad 6   \n",
      "12.887.540-5          2018-10-04       Cardiología  Enfermedad 6   \n",
      "19.500.328-3          2018-07-30  Medicina General  Enfermedad 0   \n",
      "\n",
      "                      RUT2  Costo_consulta  \n",
      "RUT                                         \n",
      "4.367.282-7    7.449.554-6         30000.0  \n",
      "13.507.971-0  13.125.344-3         28000.0  \n",
      "7.043.338-8   14.551.892-2         23000.0  \n",
      "6.415.057-3   15.444.577-3         34000.0  \n",
      "9.022.257-2   18.278.361-1         17000.0  \n",
      "5.012.158-8    8.806.736-6             NaN  \n",
      "5.873.216-0   17.552.891-4             NaN  \n",
      "4.786.472-1   10.372.316-3         33000.0  \n",
      "14.648.384-5  19.877.621-7         42000.0  \n",
      "21.270.301-0   9.770.390-5         17000.0  \n",
      "13.883.820-9  11.650.382-8             NaN  \n",
      "14.647.763-3   9.863.883-7         32000.0  \n",
      "19.720.286-0  20.395.046-6         40000.0  \n",
      "5.151.941-1   11.650.382-8         20000.0  \n",
      "17.964.252-8   9.033.905-8         18000.0  \n",
      "21.267.566-5   8.806.736-6         45000.0  \n",
      "4.762.194-6   10.380.018-6         21000.0  \n",
      "6.388.024-5   10.372.316-3         33000.0  \n",
      "8.876.840-5   13.125.344-3         24000.0  \n",
      "18.361.475-5  16.940.133-6         28000.0  \n",
      "15.104.867-6  18.278.361-1         19000.0  \n",
      "4.367.283-7   10.586.335-1         24000.0  \n",
      "5.862.330-5   14.551.892-2         25000.0  \n",
      "9.363.222-0   10.586.335-1         33000.0  \n",
      "10.398.526-6  18.945.380-7         28000.0  \n",
      "13.168.612-3   9.843.278-9         22000.0  \n",
      "21.188.758-2   9.033.905-8         25000.0  \n",
      "12.887.540-5  20.677.679-0         32000.0  \n",
      "19.500.328-3  13.888.905-2         27000.0  \n"
     ]
    }
   ],
   "source": [
    "# 6b\n",
    "print(df_consultas.loc[\"4.367.282-7\":\"19.500.328-3\"])"
   ]
  },
  {
   "cell_type": "code",
   "execution_count": 16,
   "id": "70ef698f",
   "metadata": {},
   "outputs": [
    {
     "name": "stdout",
     "output_type": "stream",
     "text": [
      "Fecha_Hora_Consulta    2018-06-24 00:00:00\n",
      "Especialidad              Medicina General\n",
      "Diag                          Enfermedad 0\n",
      "RUT2                          17.552.891-4\n",
      "Costo_consulta                     19000.0\n",
      "Name: 15.314.101-2, dtype: object\n"
     ]
    }
   ],
   "source": [
    "# 6c\n",
    "print(df_consultas.iloc[23])"
   ]
  },
  {
   "cell_type": "code",
   "execution_count": 17,
   "id": "6f9987da",
   "metadata": {},
   "outputs": [
    {
     "name": "stdout",
     "output_type": "stream",
     "text": [
      "             Fecha_Hora_Consulta      Especialidad          Diag  \\\n",
      "RUT                                                                \n",
      "7.364.238-5           2018-03-11  Medicina General  Enfermedad 0   \n",
      "8.184.172-7           2018-06-04  Medicina General  Enfermedad 0   \n",
      "13.339.941-8          2018-05-26  Medicina General  Enfermedad 0   \n",
      "6.695.425-2           2018-03-01       Cardiología  Enfermedad 6   \n",
      "13.780.496-8          2018-10-14  Medicina General  Enfermedad 0   \n",
      "6.857.628-7           2018-11-25      Dermatología  Enfermedad 3   \n",
      "14.277.194-1          2018-12-05      Dermatología  Enfermedad 3   \n",
      "4.057.639-2           2018-12-06  Medicina General  Enfermedad 0   \n",
      "4.367.282-7           2018-02-11      Dermatología  Enfermedad 3   \n",
      "13.507.971-0          2018-03-14       Cardiología  Enfermedad 6   \n",
      "7.043.338-8           2018-09-15      Dermatología  Enfermedad 3   \n",
      "6.415.057-3           2018-03-04  Medicina General  Enfermedad 0   \n",
      "9.022.257-2           2018-09-10       Cardiología  Enfermedad 6   \n",
      "\n",
      "                      RUT2  Costo_consulta  \n",
      "RUT                                         \n",
      "7.364.238-5   16.940.133-6         44000.0  \n",
      "8.184.172-7   13.125.344-3             NaN  \n",
      "13.339.941-8   7.449.554-6         16000.0  \n",
      "6.695.425-2    8.806.736-6         30000.0  \n",
      "13.780.496-8  14.954.461-1         37000.0  \n",
      "6.857.628-7   11.541.171-8         19000.0  \n",
      "14.277.194-1  11.541.171-8         26000.0  \n",
      "4.057.639-2   18.945.380-7         27000.0  \n",
      "4.367.282-7    7.449.554-6         30000.0  \n",
      "13.507.971-0  13.125.344-3         28000.0  \n",
      "7.043.338-8   14.551.892-2         23000.0  \n",
      "6.415.057-3   15.444.577-3         34000.0  \n",
      "9.022.257-2   18.278.361-1         17000.0  \n"
     ]
    }
   ],
   "source": [
    "# 6d \n",
    "print(df_consultas.iloc[76:89])"
   ]
  },
  {
   "cell_type": "code",
   "execution_count": 18,
   "id": "9407bfcb",
   "metadata": {},
   "outputs": [
    {
     "data": {
      "text/plain": [
       "Fecha_Consulta    datetime64[ns]\n",
       "Especialidad              object\n",
       "Diag                      object\n",
       "RUT_medico                object\n",
       "Costo_consulta           float64\n",
       "dtype: object"
      ]
     },
     "execution_count": 18,
     "metadata": {},
     "output_type": "execute_result"
    }
   ],
   "source": [
    "# 7\n",
    "df_consultas = df_consultas.rename(columns={\"Fecha_Hora_Consulta\":\"Fecha_Consulta\", \"RUT2\":\"RUT_medico\"})\n",
    "df_consultas.dtypes"
   ]
  },
  {
   "cell_type": "code",
   "execution_count": 43,
   "id": "fa8b3e4a",
   "metadata": {},
   "outputs": [
    {
     "name": "stdout",
     "output_type": "stream",
     "text": [
      "             Fecha_Consulta      Especialidad          Diag    RUT_medico  \\\n",
      "RUT                                                                         \n",
      "11.336.204-6     2018-04-22      Dermatología  Enfermedad 3  13.888.905-2   \n",
      "17.644.117-3     2018-02-01      Dermatología  Enfermedad 3  17.552.891-4   \n",
      "16.241.406-5     2018-07-22      Dermatología  Enfermedad 3  14.954.461-1   \n",
      "21.347.791-0     2018-05-01  Medicina General  Enfermedad 0  20.677.679-0   \n",
      "18.171.270-5     2018-02-02       Cardiología  Enfermedad 6  14.954.461-1   \n",
      "5.790.660-6      2018-09-18       Cardiología  Enfermedad 6  10.372.316-3   \n",
      "21.270.301-0     2018-06-22       Cardiología  Enfermedad 6   9.770.390-5   \n",
      "11.600.922-1     2018-10-15      Dermatología  Enfermedad 3  11.541.171-8   \n",
      "13.106.954-2     2018-09-08  Medicina General  Enfermedad 0  20.395.046-6   \n",
      "8.184.172-7      2018-06-04  Medicina General  Enfermedad 0  13.125.344-3   \n",
      "5.012.158-8      2018-05-20      Dermatología  Enfermedad 3   8.806.736-6   \n",
      "5.873.216-0      2018-11-04       Cardiología  Enfermedad 6  17.552.891-4   \n",
      "13.883.820-9     2018-08-06      Dermatología  Enfermedad 3  11.650.382-8   \n",
      "12.936.982-4     2018-04-13       Cardiología  Enfermedad 6  20.677.679-0   \n",
      "9.841.228-8      2018-03-31      Dermatología  Enfermedad 3  11.541.171-8   \n",
      "6.143.290-8      2018-02-27      Dermatología  Enfermedad 3   9.033.905-8   \n",
      "17.350.697-0     2018-12-30       Cardiología  Enfermedad 6   8.806.736-6   \n",
      "5.335.422-3      2018-08-13      Dermatología  Enfermedad 3   7.449.554-6   \n",
      "12.936.982-4     2018-04-08      Dermatología  Enfermedad 3  11.650.382-8   \n",
      "\n",
      "              Costo_consulta  \n",
      "RUT                           \n",
      "11.336.204-6             NaN  \n",
      "17.644.117-3             NaN  \n",
      "16.241.406-5             NaN  \n",
      "21.347.791-0             NaN  \n",
      "18.171.270-5             NaN  \n",
      "5.790.660-6              NaN  \n",
      "21.270.301-0             NaN  \n",
      "11.600.922-1             NaN  \n",
      "13.106.954-2             NaN  \n",
      "8.184.172-7              NaN  \n",
      "5.012.158-8              NaN  \n",
      "5.873.216-0              NaN  \n",
      "13.883.820-9             NaN  \n",
      "12.936.982-4             NaN  \n",
      "9.841.228-8              NaN  \n",
      "6.143.290-8              NaN  \n",
      "17.350.697-0             NaN  \n",
      "5.335.422-3              NaN  \n",
      "12.936.982-4             NaN  \n"
     ]
    }
   ],
   "source": [
    "# 8\n",
    "# Verificamos si existen filas NaN\n",
    "print(df_consultas.loc[df_consultas.Costo_consulta.isnull()])"
   ]
  },
  {
   "cell_type": "code",
   "execution_count": 45,
   "id": "9fd6f592",
   "metadata": {},
   "outputs": [
    {
     "name": "stdout",
     "output_type": "stream",
     "text": [
      "Empty DataFrame\n",
      "Columns: [Fecha_Consulta, Especialidad, Diag, RUT_medico, Costo_consulta]\n",
      "Index: []\n"
     ]
    }
   ],
   "source": [
    "df_consultas = df_consultas.fillna(\"10000\")\n",
    "print(df_consultas.loc[df_consultas.Costo_consulta.isnull()])"
   ]
  },
  {
   "cell_type": "code",
   "execution_count": 47,
   "id": "2028b985",
   "metadata": {},
   "outputs": [],
   "source": [
    "# 9\n",
    "# Cargamos\n",
    "df_consultas2 = pd.read_csv(\"consultas2.csv\", encoding=\"utf-8\", sep=\";\")\n",
    "# Normalizamos\n",
    "df_consultas2[\"Fecha_Hora_Consulta\"] = df_consultas2[\"Fecha_Hora_Consulta\"].astype(\"datetime64\")\n",
    "df_consultas2 = df_consultas2.set_index(\"RUT\")\n",
    "df_consultas2 = df_consultas2.rename(columns={\"Fecha_Hora_Consulta\":\"Fecha_Consulta\", \"RUT2\":\"RUT_medico\"})\n",
    "df_consultas2 = df_consultas2.fillna(\"10000\")"
   ]
  },
  {
   "cell_type": "code",
   "execution_count": 48,
   "id": "28a25cd2",
   "metadata": {},
   "outputs": [],
   "source": [
    "# Unimos los 2 dataframe\n",
    "df_consultas = df_consultas.append(df_consultas2)"
   ]
  },
  {
   "cell_type": "code",
   "execution_count": 50,
   "id": "fd88d57d",
   "metadata": {},
   "outputs": [],
   "source": [
    "# 10\n",
    "df_consultas = df_consultas.drop(df_consultas.iloc[0:10].index)"
   ]
  },
  {
   "cell_type": "code",
   "execution_count": 52,
   "id": "b897cf62",
   "metadata": {},
   "outputs": [
    {
     "name": "stdout",
     "output_type": "stream",
     "text": [
      "1185\n"
     ]
    }
   ],
   "source": [
    "print(df_consultas.size)"
   ]
  },
  {
   "cell_type": "code",
   "execution_count": null,
   "id": "87b8619f",
   "metadata": {},
   "outputs": [],
   "source": []
  },
  {
   "cell_type": "code",
   "execution_count": null,
   "id": "d103b560",
   "metadata": {},
   "outputs": [],
   "source": []
  },
  {
   "cell_type": "code",
   "execution_count": null,
   "id": "2c4f7b1b",
   "metadata": {},
   "outputs": [],
   "source": []
  },
  {
   "cell_type": "code",
   "execution_count": null,
   "id": "6205fa87",
   "metadata": {},
   "outputs": [],
   "source": []
  },
  {
   "cell_type": "code",
   "execution_count": null,
   "id": "38e389eb",
   "metadata": {},
   "outputs": [],
   "source": []
  },
  {
   "cell_type": "code",
   "execution_count": null,
   "id": "327f6666",
   "metadata": {},
   "outputs": [],
   "source": []
  },
  {
   "cell_type": "code",
   "execution_count": null,
   "id": "6985c8bd",
   "metadata": {},
   "outputs": [],
   "source": []
  },
  {
   "cell_type": "code",
   "execution_count": null,
   "id": "441bbfd1",
   "metadata": {},
   "outputs": [],
   "source": []
  },
  {
   "cell_type": "code",
   "execution_count": null,
   "id": "a7823768",
   "metadata": {},
   "outputs": [],
   "source": []
  },
  {
   "cell_type": "code",
   "execution_count": null,
   "id": "667cd6e9",
   "metadata": {},
   "outputs": [],
   "source": []
  },
  {
   "cell_type": "code",
   "execution_count": null,
   "id": "03d9334a",
   "metadata": {},
   "outputs": [],
   "source": []
  },
  {
   "cell_type": "code",
   "execution_count": null,
   "id": "bf424d41",
   "metadata": {},
   "outputs": [],
   "source": []
  },
  {
   "cell_type": "code",
   "execution_count": null,
   "id": "c6dc6446",
   "metadata": {},
   "outputs": [],
   "source": []
  },
  {
   "cell_type": "code",
   "execution_count": null,
   "id": "6b7d7796",
   "metadata": {},
   "outputs": [],
   "source": []
  },
  {
   "cell_type": "code",
   "execution_count": null,
   "id": "2e6893e5",
   "metadata": {},
   "outputs": [],
   "source": []
  },
  {
   "cell_type": "code",
   "execution_count": null,
   "id": "b8733694",
   "metadata": {},
   "outputs": [],
   "source": []
  },
  {
   "cell_type": "code",
   "execution_count": null,
   "id": "bf9433c7",
   "metadata": {},
   "outputs": [],
   "source": []
  },
  {
   "cell_type": "code",
   "execution_count": null,
   "id": "3ae356c2",
   "metadata": {},
   "outputs": [],
   "source": []
  },
  {
   "cell_type": "code",
   "execution_count": null,
   "id": "497bd304",
   "metadata": {},
   "outputs": [],
   "source": []
  },
  {
   "cell_type": "code",
   "execution_count": null,
   "id": "9938672c",
   "metadata": {},
   "outputs": [],
   "source": []
  },
  {
   "cell_type": "code",
   "execution_count": null,
   "id": "ab71ee9d",
   "metadata": {},
   "outputs": [],
   "source": []
  },
  {
   "cell_type": "code",
   "execution_count": null,
   "id": "d3572169",
   "metadata": {},
   "outputs": [],
   "source": []
  },
  {
   "cell_type": "code",
   "execution_count": null,
   "id": "01972367",
   "metadata": {},
   "outputs": [],
   "source": []
  },
  {
   "cell_type": "code",
   "execution_count": null,
   "id": "79ee2f8f",
   "metadata": {},
   "outputs": [],
   "source": []
  },
  {
   "cell_type": "code",
   "execution_count": null,
   "id": "9b89ed5e",
   "metadata": {},
   "outputs": [],
   "source": []
  },
  {
   "cell_type": "code",
   "execution_count": null,
   "id": "76e8b347",
   "metadata": {},
   "outputs": [],
   "source": []
  },
  {
   "cell_type": "code",
   "execution_count": null,
   "id": "60733874",
   "metadata": {},
   "outputs": [],
   "source": []
  },
  {
   "cell_type": "code",
   "execution_count": null,
   "id": "31accfdd",
   "metadata": {},
   "outputs": [],
   "source": []
  },
  {
   "cell_type": "code",
   "execution_count": null,
   "id": "3696dbe1",
   "metadata": {},
   "outputs": [],
   "source": []
  },
  {
   "cell_type": "code",
   "execution_count": null,
   "id": "3c764df6",
   "metadata": {},
   "outputs": [],
   "source": []
  },
  {
   "cell_type": "code",
   "execution_count": null,
   "id": "ca1e0f70",
   "metadata": {},
   "outputs": [],
   "source": []
  },
  {
   "cell_type": "code",
   "execution_count": null,
   "id": "64a63dc4",
   "metadata": {},
   "outputs": [],
   "source": []
  },
  {
   "cell_type": "code",
   "execution_count": null,
   "id": "b831b5a1",
   "metadata": {},
   "outputs": [],
   "source": []
  },
  {
   "cell_type": "code",
   "execution_count": null,
   "id": "5613722a",
   "metadata": {},
   "outputs": [],
   "source": []
  },
  {
   "cell_type": "code",
   "execution_count": null,
   "id": "c220abfd",
   "metadata": {},
   "outputs": [],
   "source": []
  }
 ],
 "metadata": {
  "kernelspec": {
   "display_name": "Python 3",
   "language": "python",
   "name": "python3"
  },
  "language_info": {
   "codemirror_mode": {
    "name": "ipython",
    "version": 3
   },
   "file_extension": ".py",
   "mimetype": "text/x-python",
   "name": "python",
   "nbconvert_exporter": "python",
   "pygments_lexer": "ipython3",
   "version": "3.8.8"
  }
 },
 "nbformat": 4,
 "nbformat_minor": 5
}
